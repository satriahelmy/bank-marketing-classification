{
 "cells": [
  {
   "cell_type": "markdown",
   "id": "58c0270f-d3e0-4468-ab4d-b3ad5493b9d3",
   "metadata": {},
   "source": [
    "# Marketing Data Classification"
   ]
  },
  {
   "cell_type": "markdown",
   "id": "6b495fa0-4e29-4369-acb4-0d04bd874f8f",
   "metadata": {},
   "source": [
    "Pada notebook ini, berisi code mengenai Marketing Data Classification. Dataset bank-marketing ini berisi informasi mengenai data client, data campaign dan sosial ekonomi.\n",
    "<br>Sumber : http://archive.ics.uci.edu/ml/datasets/Bank+Marketing"
   ]
  },
  {
   "cell_type": "markdown",
   "id": "626383fd-a8a6-4a2b-92b9-c3434086da52",
   "metadata": {},
   "source": [
    "## Penjelasan dataset"
   ]
  },
  {
   "cell_type": "markdown",
   "id": "4e43ce79-9925-48bf-a912-282069a5ce5d",
   "metadata": {},
   "source": [
    "**Bank Marketing Data**:\n",
    "\n",
    "- `age` : umur klien (numeric)\n",
    "- `job` : pekerjaan (categorical: \"admin.\",\"blue-collar\",\"entrepreneur\",\"housemaid\",\"management\",\"retired\",\"self-employed\",\"services\",\"student\",\"technician\",\"unemployed\",\"unknown\")\n",
    "- `marital` : status perkawinan (categorical: \"divorced\",\"married\",\"single\",\"unknown\"; note: \"divorced\" means divorced or widowed)\n",
    "- `education` : pendidikan (categorical: \"basic.4y\",\"basic.6y\",\"basic.9y\",\"high.school\",\"illiterate\",\"professional.course\",\"university.degree\",\"unknown\")\n",
    "- `default`: memiliki kredit yang default? (binary: \"yes\", \"no\")\n",
    "- `balance`: saldo tahunan rata-rata dalam euro (numeric)\n",
    "- `housing`: memiliki pinjaman perumahan? (binary: \"yes\", \"no\")\n",
    "- `loan`: memiliki pinjaman pribadi? (binary: \"yes\", \"no\")\n",
    "\n",
    "<br>\n",
    "\n",
    "**Kondisi komunikasi dengan campaign terakhir**\n",
    "- `contact`: tipe kontak (categorical: \"unknown\", \"telephone\", \"cellular\")\n",
    "- `day`: hari terakhir kontak (numeric)\n",
    "- `month`: bulan terakhir kontak (categorical: \"jan\", \"feb\", \"mar\", ..., \"nov\", \"dec\")\n",
    "- `duration`: durasi kontak terakhir dalam seconds (numeric)\n",
    "\n",
    "<br>\n",
    "\n",
    "**Atribut/Fitur lain**\n",
    "- `campaign`: jumlah kontak dalam campaign ini dan pada client ini (numeric, includes last contact)\n",
    "- `pdays`: jumlah hari yang berlalu setelah klien terakhir dihubungi dari kampanye sebelumnya (numeric, -1 means client was not previously contacted)\n",
    "- `previous`: jumlah kontak yang dilakukan sebelum kampanye ini dan untuk klien ini (numeric)\n",
    "- `poutcome`: hasil dari kampanye pemasaran sebelumnya (categorical: \"unknown\",\"other\",\"failure\",\"success\")\n",
    "\n",
    "<br>\n",
    "\n",
    "**Kondisi sosial ekonomi**\n",
    "- `emp.var.rate`: employment variation rate - quarterly indicator (numeric)\n",
    "- `cons.price.idx`: consumer price index - monthly indicator (numeric)     \n",
    "- `cons.conf.idx`: consumer confidence index - monthly indicator (numeric)     \n",
    "- `euribor3m`: euribor 3 month rate - daily indicator (numeric)\n",
    "- `nr.employed`: number of employees - quarterly indicator (numeric)\n",
    "\n",
    "<br>\n",
    "\n",
    "**Output variable (desired target)**\n",
    "- `y` - apakah klien berlangganan deposit? (binary: \"yes\",\"no\")"
   ]
  },
  {
   "cell_type": "markdown",
   "id": "4533f75b-1d98-42c0-b07b-2e4273c4a2e2",
   "metadata": {},
   "source": [
    "### Import Library"
   ]
  },
  {
   "cell_type": "code",
   "execution_count": null,
   "id": "9de08d3a-601f-41a4-9de3-ccc64a81a96b",
   "metadata": {},
   "outputs": [],
   "source": [
    "#import library yang dibutuhkan\n",
    "import numpy as np\n",
    "import pandas as pd\n",
    "\n",
    "import matplotlib.pyplot as plt\n",
    "import seaborn as sns"
   ]
  },
  {
   "cell_type": "markdown",
   "id": "6e772d41-e236-4b8a-a0f4-4dcf6ccbcd03",
   "metadata": {},
   "source": [
    "### Import Data sekaligus menghapus data duplikat"
   ]
  },
  {
   "cell_type": "code",
   "execution_count": null,
   "id": "740494bc-f5f5-4d10-91a4-df4daa881352",
   "metadata": {},
   "outputs": [],
   "source": [
    "def importData(filename):\n",
    "    \"\"\"\n",
    "    Fungsi untuk import data & hapus duplikat\n",
    "    :param filename: <string> nama file input (format .csv)\n",
    "    :return data: <pandas dataframe> sampel data\n",
    "    \"\"\"\n",
    "    \n",
    "    # Read Data\n",
    "    data = pd.read_csv(filename,delimiter=';')\n",
    "    print(f\"shape awal                    : {data.shape}, (#observasi, #fitur)\")\n",
    "\n",
    "    # Drop duplicate\n",
    "    data = data.drop_duplicates()\n",
    "    print(f\"shape setelah drop duplikat   : {data.shape}, (#observasi, #fitur)\")\n",
    "\n",
    "    return data"
   ]
  },
  {
   "cell_type": "code",
   "execution_count": null,
   "id": "f2761323-e818-45ab-a7a6-5f43dc835186",
   "metadata": {},
   "outputs": [
    {
     "name": "stdout",
     "output_type": "stream",
     "text": [
      "shape awal                    : (41188, 21), (#observasi, #fitur)\n",
      "shape setelah drop duplikat   : (41176, 21), (#observasi, #fitur)\n"
     ]
    },
    {
     "data": {
      "text/html": [
       "<div>\n",
       "<style scoped>\n",
       "    .dataframe tbody tr th:only-of-type {\n",
       "        vertical-align: middle;\n",
       "    }\n",
       "\n",
       "    .dataframe tbody tr th {\n",
       "        vertical-align: top;\n",
       "    }\n",
       "\n",
       "    .dataframe thead th {\n",
       "        text-align: right;\n",
       "    }\n",
       "</style>\n",
       "<table border=\"1\" class=\"dataframe\">\n",
       "  <thead>\n",
       "    <tr style=\"text-align: right;\">\n",
       "      <th></th>\n",
       "      <th>age</th>\n",
       "      <th>job</th>\n",
       "      <th>marital</th>\n",
       "      <th>education</th>\n",
       "      <th>default</th>\n",
       "      <th>housing</th>\n",
       "      <th>loan</th>\n",
       "      <th>contact</th>\n",
       "      <th>month</th>\n",
       "      <th>day_of_week</th>\n",
       "      <th>...</th>\n",
       "      <th>campaign</th>\n",
       "      <th>pdays</th>\n",
       "      <th>previous</th>\n",
       "      <th>poutcome</th>\n",
       "      <th>emp.var.rate</th>\n",
       "      <th>cons.price.idx</th>\n",
       "      <th>cons.conf.idx</th>\n",
       "      <th>euribor3m</th>\n",
       "      <th>nr.employed</th>\n",
       "      <th>y</th>\n",
       "    </tr>\n",
       "  </thead>\n",
       "  <tbody>\n",
       "    <tr>\n",
       "      <th>0</th>\n",
       "      <td>56</td>\n",
       "      <td>housemaid</td>\n",
       "      <td>married</td>\n",
       "      <td>basic.4y</td>\n",
       "      <td>no</td>\n",
       "      <td>no</td>\n",
       "      <td>no</td>\n",
       "      <td>telephone</td>\n",
       "      <td>may</td>\n",
       "      <td>mon</td>\n",
       "      <td>...</td>\n",
       "      <td>1</td>\n",
       "      <td>999</td>\n",
       "      <td>0</td>\n",
       "      <td>nonexistent</td>\n",
       "      <td>1.1</td>\n",
       "      <td>93.994</td>\n",
       "      <td>-36.4</td>\n",
       "      <td>4.857</td>\n",
       "      <td>5191.0</td>\n",
       "      <td>no</td>\n",
       "    </tr>\n",
       "    <tr>\n",
       "      <th>1</th>\n",
       "      <td>57</td>\n",
       "      <td>services</td>\n",
       "      <td>married</td>\n",
       "      <td>high.school</td>\n",
       "      <td>unknown</td>\n",
       "      <td>no</td>\n",
       "      <td>no</td>\n",
       "      <td>telephone</td>\n",
       "      <td>may</td>\n",
       "      <td>mon</td>\n",
       "      <td>...</td>\n",
       "      <td>1</td>\n",
       "      <td>999</td>\n",
       "      <td>0</td>\n",
       "      <td>nonexistent</td>\n",
       "      <td>1.1</td>\n",
       "      <td>93.994</td>\n",
       "      <td>-36.4</td>\n",
       "      <td>4.857</td>\n",
       "      <td>5191.0</td>\n",
       "      <td>no</td>\n",
       "    </tr>\n",
       "    <tr>\n",
       "      <th>2</th>\n",
       "      <td>37</td>\n",
       "      <td>services</td>\n",
       "      <td>married</td>\n",
       "      <td>high.school</td>\n",
       "      <td>no</td>\n",
       "      <td>yes</td>\n",
       "      <td>no</td>\n",
       "      <td>telephone</td>\n",
       "      <td>may</td>\n",
       "      <td>mon</td>\n",
       "      <td>...</td>\n",
       "      <td>1</td>\n",
       "      <td>999</td>\n",
       "      <td>0</td>\n",
       "      <td>nonexistent</td>\n",
       "      <td>1.1</td>\n",
       "      <td>93.994</td>\n",
       "      <td>-36.4</td>\n",
       "      <td>4.857</td>\n",
       "      <td>5191.0</td>\n",
       "      <td>no</td>\n",
       "    </tr>\n",
       "    <tr>\n",
       "      <th>3</th>\n",
       "      <td>40</td>\n",
       "      <td>admin.</td>\n",
       "      <td>married</td>\n",
       "      <td>basic.6y</td>\n",
       "      <td>no</td>\n",
       "      <td>no</td>\n",
       "      <td>no</td>\n",
       "      <td>telephone</td>\n",
       "      <td>may</td>\n",
       "      <td>mon</td>\n",
       "      <td>...</td>\n",
       "      <td>1</td>\n",
       "      <td>999</td>\n",
       "      <td>0</td>\n",
       "      <td>nonexistent</td>\n",
       "      <td>1.1</td>\n",
       "      <td>93.994</td>\n",
       "      <td>-36.4</td>\n",
       "      <td>4.857</td>\n",
       "      <td>5191.0</td>\n",
       "      <td>no</td>\n",
       "    </tr>\n",
       "    <tr>\n",
       "      <th>4</th>\n",
       "      <td>56</td>\n",
       "      <td>services</td>\n",
       "      <td>married</td>\n",
       "      <td>high.school</td>\n",
       "      <td>no</td>\n",
       "      <td>no</td>\n",
       "      <td>yes</td>\n",
       "      <td>telephone</td>\n",
       "      <td>may</td>\n",
       "      <td>mon</td>\n",
       "      <td>...</td>\n",
       "      <td>1</td>\n",
       "      <td>999</td>\n",
       "      <td>0</td>\n",
       "      <td>nonexistent</td>\n",
       "      <td>1.1</td>\n",
       "      <td>93.994</td>\n",
       "      <td>-36.4</td>\n",
       "      <td>4.857</td>\n",
       "      <td>5191.0</td>\n",
       "      <td>no</td>\n",
       "    </tr>\n",
       "  </tbody>\n",
       "</table>\n",
       "<p>5 rows × 21 columns</p>\n",
       "</div>"
      ],
      "text/plain": [
       "   age        job  marital    education  default housing loan    contact  \\\n",
       "0   56  housemaid  married     basic.4y       no      no   no  telephone   \n",
       "1   57   services  married  high.school  unknown      no   no  telephone   \n",
       "2   37   services  married  high.school       no     yes   no  telephone   \n",
       "3   40     admin.  married     basic.6y       no      no   no  telephone   \n",
       "4   56   services  married  high.school       no      no  yes  telephone   \n",
       "\n",
       "  month day_of_week  ...  campaign  pdays  previous     poutcome emp.var.rate  \\\n",
       "0   may         mon  ...         1    999         0  nonexistent          1.1   \n",
       "1   may         mon  ...         1    999         0  nonexistent          1.1   \n",
       "2   may         mon  ...         1    999         0  nonexistent          1.1   \n",
       "3   may         mon  ...         1    999         0  nonexistent          1.1   \n",
       "4   may         mon  ...         1    999         0  nonexistent          1.1   \n",
       "\n",
       "   cons.price.idx  cons.conf.idx  euribor3m  nr.employed   y  \n",
       "0          93.994          -36.4      4.857       5191.0  no  \n",
       "1          93.994          -36.4      4.857       5191.0  no  \n",
       "2          93.994          -36.4      4.857       5191.0  no  \n",
       "3          93.994          -36.4      4.857       5191.0  no  \n",
       "4          93.994          -36.4      4.857       5191.0  no  \n",
       "\n",
       "[5 rows x 21 columns]"
      ]
     },
     "execution_count": 3,
     "metadata": {},
     "output_type": "execute_result"
    }
   ],
   "source": [
    "# import data\n",
    "filename = \"data/bank-additional-full.csv\"\n",
    "data = importData(filename = filename)\n",
    "\n",
    "#cek hasilnya\n",
    "data.head()"
   ]
  },
  {
   "cell_type": "markdown",
   "id": "5a3d4bef-f9c0-4b66-8020-8673453a7922",
   "metadata": {},
   "source": [
    "### Splitting Input Output"
   ]
  },
  {
   "cell_type": "markdown",
   "id": "5bced331-1c7a-41c7-809a-711dbc4fc721",
   "metadata": {},
   "source": [
    "Untuk proses fitting, kita perlu melakukan splitting data input dan output"
   ]
  },
  {
   "cell_type": "code",
   "execution_count": 4,
   "id": "25ea186e-3a39-4bd7-83a8-20c5a1cc7d17",
   "metadata": {},
   "outputs": [],
   "source": [
    "#fungsi split input output\n",
    "def split_input_output(data, target_column):\n",
    "    \"\"\"\n",
    "    Fungsi untuk melakukan splitting input dan output\n",
    "    Parameter:\n",
    "    - data <pandas dataframe> : dataframe yang akan displit\n",
    "    \n",
    "    :return:\n",
    "    - X <pandas dataframe> : input berupa dataframe\n",
    "    - y <series> : output berupa series\n",
    "    \"\"\"\n",
    "    X = data.drop(columns = target_column)\n",
    "    y = data[target_column]\n",
    "\n",
    "    return X, y"
   ]
  },
  {
   "cell_type": "code",
   "execution_count": 5,
   "id": "1aaf0285-de2b-43e2-8ed6-47b9ebddc127",
   "metadata": {},
   "outputs": [],
   "source": [
    "#panggil fungsi split input output dan simpan dalam variable X dan y\n",
    "X, y = split_input_output(data = data,\n",
    "                          target_column = \"y\")"
   ]
  },
  {
   "cell_type": "markdown",
   "id": "1291e183-71d1-43af-ba44-7f513a79bcf4",
   "metadata": {},
   "source": [
    "### Train Test Split"
   ]
  },
  {
   "cell_type": "markdown",
   "id": "55168ea4-60a9-4c05-8c5e-08414e52ff1c",
   "metadata": {},
   "source": [
    "Kita akan membagi data menjadi data train dan data test dengan `test_size` : <b>0.3</b>. Karena kita bertujuan untuk klasifikasi, kita menggunakan `stratify` untuk mempertahankan proporsi data."
   ]
  },
  {
   "cell_type": "code",
   "execution_count": 6,
   "id": "c9880c85-75f5-40ff-ab22-0690abf0c645",
   "metadata": {},
   "outputs": [],
   "source": [
    "#import train_test_split dari sklearn\n",
    "from sklearn.model_selection import train_test_split\n",
    "\n",
    "# memanggil train_test_split dan memasukkannya ke dalam X_train, X_test, y_train, y_test\n",
    "X_train, X_test, y_train, y_test = train_test_split(X,\n",
    "                                                    y,\n",
    "                                                    test_size = 0.3,\n",
    "                                                    stratify = y,\n",
    "                                                    random_state = 123)"
   ]
  },
  {
   "cell_type": "markdown",
   "id": "ae4d1674-6c35-4264-a589-0560a5eee3e6",
   "metadata": {},
   "source": [
    "Cek proporsi di masing-masing data"
   ]
  },
  {
   "cell_type": "code",
   "execution_count": 7,
   "id": "0515e291-c867-4403-b726-b7a2ced4bbb7",
   "metadata": {},
   "outputs": [
    {
     "data": {
      "text/plain": [
       "no     0.887347\n",
       "yes    0.112653\n",
       "Name: y, dtype: float64"
      ]
     },
     "execution_count": 7,
     "metadata": {},
     "output_type": "execute_result"
    }
   ],
   "source": [
    "y_train.value_counts(normalize=True)"
   ]
  },
  {
   "cell_type": "code",
   "execution_count": 8,
   "id": "c9bc013b-10f5-448d-b69c-6290673de34d",
   "metadata": {},
   "outputs": [
    {
     "data": {
      "text/plain": [
       "no     0.887315\n",
       "yes    0.112685\n",
       "Name: y, dtype: float64"
      ]
     },
     "execution_count": 8,
     "metadata": {},
     "output_type": "execute_result"
    }
   ],
   "source": [
    "y_test.value_counts(normalize=True)"
   ]
  },
  {
   "cell_type": "markdown",
   "id": "019eeb09-be17-4091-85fc-6784685e81c5",
   "metadata": {},
   "source": [
    "### Handling Output"
   ]
  },
  {
   "cell_type": "markdown",
   "id": "e63c37b4-c407-423d-b64b-9822bf1c0ab3",
   "metadata": {},
   "source": [
    "Pada tahapan ini, kita akan mengubah output dari yes/no menjadi 1/0"
   ]
  },
  {
   "cell_type": "code",
   "execution_count": 9,
   "id": "eed1814a-2b76-4c9a-852e-10dc8200a1ce",
   "metadata": {},
   "outputs": [],
   "source": [
    "def handlingOutput(y_train, y_test, pos_value):\n",
    "    \"\"\"\n",
    "    Fungsi untuk mengubah nilai output\n",
    "    Parameter:\n",
    "    - y_train <pandas series> : output pada data training\n",
    "    - y_test <pandas series> : output pada data test\n",
    "    - pos_value <string> : nilai jika positif\n",
    "    \n",
    "    return:\n",
    "    - X <pandas dataframe> : input berupa dataframe\n",
    "    - y <series> : output berupa series\n",
    "    \"\"\"\n",
    "    y_train = y_train.apply(lambda x: 1 if x == pos_value else 0)\n",
    "    y_test = y_test.apply(lambda x: 1 if x == pos_value else 0)\n",
    "    \n",
    "    return y_train, y_test"
   ]
  },
  {
   "cell_type": "code",
   "execution_count": 10,
   "id": "8c446be3-9552-4a3e-ae96-1564d05a02ec",
   "metadata": {},
   "outputs": [],
   "source": [
    "# memanggil fungsi handling output\n",
    "y_train, y_test = handlingOutput(y_train = y_train, \n",
    "                                 y_test = y_test, \n",
    "                                 pos_value = \"yes\")"
   ]
  },
  {
   "cell_type": "markdown",
   "id": "b19049b8-d048-4e33-ac3b-2a1329335815",
   "metadata": {},
   "source": [
    "Cek hasilnya"
   ]
  },
  {
   "cell_type": "code",
   "execution_count": 11,
   "id": "90b6498b-cdc6-49bd-99e5-2aaa65a61a42",
   "metadata": {},
   "outputs": [
    {
     "data": {
      "text/plain": [
       "0    0.887347\n",
       "1    0.112653\n",
       "Name: y, dtype: float64"
      ]
     },
     "execution_count": 11,
     "metadata": {},
     "output_type": "execute_result"
    }
   ],
   "source": [
    "y_train.value_counts(normalize=True)"
   ]
  },
  {
   "cell_type": "code",
   "execution_count": 12,
   "id": "46090c6f-0113-4da3-afcd-c45bf59fb67d",
   "metadata": {},
   "outputs": [
    {
     "data": {
      "text/plain": [
       "0    0.887315\n",
       "1    0.112685\n",
       "Name: y, dtype: float64"
      ]
     },
     "execution_count": 12,
     "metadata": {},
     "output_type": "execute_result"
    }
   ],
   "source": [
    "y_test.value_counts(normalize=True)"
   ]
  },
  {
   "cell_type": "markdown",
   "id": "4173ac6e-4879-4a01-9dad-365d4d1307e0",
   "metadata": {},
   "source": [
    "### Convert Pdays"
   ]
  },
  {
   "cell_type": "markdown",
   "id": "a3c56740-a18a-430b-930c-f217cb1bf893",
   "metadata": {},
   "source": [
    "Pdays adalah variable yang berarti jumlah hari yang berlalu setelah klien terakhir dihubungi dari kampanye sebelumnya hari terkahir. Selanjutnya kita akan mengubah pdays yang bernilai 999 menjadi -1 dan mengubahnya menjadi data kategorik. Nilai -1 kita isi dengan \"not contacted\" yang berarti belum pernah dikontak."
   ]
  },
  {
   "cell_type": "code",
   "execution_count": 13,
   "id": "4b25d72d-f018-4c19-978b-b5b44a5f95a8",
   "metadata": {},
   "outputs": [
    {
     "data": {
      "text/plain": [
       "Not contacted    27777\n",
       "1w                 818\n",
       "2w                 185\n",
       ">2w                 43\n",
       "Name: pdays_group, dtype: int64"
      ]
     },
     "execution_count": 13,
     "metadata": {},
     "output_type": "execute_result"
    }
   ],
   "source": [
    "def convertPdaysGroup(df):\n",
    "    \"\"\"\n",
    "    Fungsi untuk mengubah nilai pdays menjadi pdays_group\n",
    "    Parameter:\n",
    "    - df <pandas dataframe> : dataframe\n",
    "    \n",
    "    return:\n",
    "    - df <pandas dataframe> : dataframe setelah konversi pdays_group\n",
    "    \"\"\"\n",
    "    #mengelompokkan\n",
    "    bins = [0, 7, 14, 30]\n",
    "    labels = ['1w', '2w', '>2w']\n",
    "    df['pdays_group'] = pd.cut(df['pdays'], bins=bins, labels=labels, include_lowest=False)\n",
    "    df['pdays_group'] = df['pdays_group'].astype('O')\n",
    "\n",
    "    # fillna as Not contacted\n",
    "    df['pdays_group'].fillna('Not contacted', inplace=True)\n",
    "    df['pdays_group'].value_counts()\n",
    "    df.drop(columns=['pdays'], axis=1, inplace=True)\n",
    "    \n",
    "    return df\n",
    "\n",
    "X_train = convertPdaysGroup(X_train)\n",
    "X_train['pdays_group'].value_counts()"
   ]
  },
  {
   "cell_type": "markdown",
   "id": "a211b940-25bf-4560-9301-2383a385c043",
   "metadata": {},
   "source": [
    "### Convert Age to Age Group"
   ]
  },
  {
   "cell_type": "markdown",
   "id": "d7c01a6c-6c25-435d-b80f-202d02d27076",
   "metadata": {},
   "source": [
    "Kita mengubah age menjadi data kategorik dan disimpan pada kolom `age_group`."
   ]
  },
  {
   "cell_type": "code",
   "execution_count": 14,
   "id": "669e2cab-58b0-4441-abbb-54d92279fe02",
   "metadata": {},
   "outputs": [],
   "source": [
    "def convertAgeGroup(df): \n",
    "    \"\"\"\n",
    "    Fungsi untuk mengubah nilai age menjadi age_group\n",
    "    Parameter:\n",
    "    - df <pandas dataframe> : dataframe\n",
    "    \n",
    "    return:\n",
    "    - df <pandas dataframe> : dataframe setelah dikelompokkan menjadi age_group\n",
    "    \"\"\"\n",
    "    #membagi age menjadi bin\n",
    "    bins = [16, 30, 40, 50, 60, 100]\n",
    "    labels = ['<30', '31-40', '41-50', '51-60', '>60']\n",
    "    df['age_group'] = pd.cut(df['age'], bins=bins, labels=labels, include_lowest=True)\n",
    "    #hapus kolom age eksisting\n",
    "    df.drop(columns=['age'], axis=1, inplace=True)\n",
    "    return df"
   ]
  },
  {
   "cell_type": "code",
   "execution_count": 15,
   "id": "f6ff2df7-96ef-4db3-8568-ac3dd7e9c6d9",
   "metadata": {},
   "outputs": [
    {
     "data": {
      "text/plain": [
       "31-40    11491\n",
       "41-50     7136\n",
       "<30       5153\n",
       "51-60     4400\n",
       ">60        643\n",
       "Name: age_group, dtype: int64"
      ]
     },
     "execution_count": 15,
     "metadata": {},
     "output_type": "execute_result"
    }
   ],
   "source": [
    "X_train = convertAgeGroup(X_train)\n",
    "X_train['age_group'].value_counts()"
   ]
  },
  {
   "cell_type": "markdown",
   "id": "a8cb3568-3e05-4b6c-9763-83bcdc72ccff",
   "metadata": {},
   "source": [
    "### Membagi Data Numerik dan Kategorikal"
   ]
  },
  {
   "cell_type": "markdown",
   "id": "90aa9404-7449-47da-92dd-02e4394b1b35",
   "metadata": {},
   "source": [
    "Karena memiliki treatment yang berbeda , kita perlu mengelompokkan data yang kategorik dan numerik."
   ]
  },
  {
   "cell_type": "code",
   "execution_count": 16,
   "id": "4192bffc-ebff-4653-8d5c-bcb67ac7b0bb",
   "metadata": {},
   "outputs": [],
   "source": [
    "#mendaftar kategori kategorik dan numerik\n",
    "categorical_col = [\"job\",\"marital\",\"education\",\"default\",\"housing\",\"loan\",\"contact\", \"month\", \"day_of_week\", \"poutcome\", \"pdays_group\",\"age_group\"]\n",
    "numerical_col = [\"duration\",\"campaign\",\"previous\",\"emp.var.rate\",\"cons.price.idx\",\"cons.conf.idx\",\"euribor3m\",\"nr.employed\"]"
   ]
  },
  {
   "cell_type": "code",
   "execution_count": null,
   "id": "1960ca76-5b59-4c6f-911c-ce0949fa5317",
   "metadata": {},
   "outputs": [],
   "source": [
    "#fungsi memisahkan data numerik dan kategorik\n",
    "def splitNumCat(data, num_col, cat_col):\n",
    "    \"\"\"\n",
    "    Fungsi untuk memisahkan kategorik dan numerik\n",
    "    Parameter:\n",
    "    - data <pandas dataframe> : dataframe\n",
    "    - num_col <list> : list nama kolom numerik\n",
    "    - cat_col <list> : list nama kolom kategorik \n",
    "    \n",
    "    return:\n",
    "    - df <pandas dataframe> : dataframe setelah dikelompokkan menjadi age_group\n",
    "    \"\"\"\n",
    "    data_num = data[num_col]\n",
    "    data_cat = data[cat_col]\n",
    "\n",
    "    return data_num, data_cat"
   ]
  },
  {
   "cell_type": "code",
   "execution_count": null,
   "id": "bf98e4ac-5a8f-4ea8-adee-b5941f9cc192",
   "metadata": {},
   "outputs": [
    {
     "ename": "NameError",
     "evalue": "name 'X_train' is not defined",
     "output_type": "error",
     "traceback": [
      "\u001b[1;31m---------------------------------------------------------------------------\u001b[0m",
      "\u001b[1;31mNameError\u001b[0m                                 Traceback (most recent call last)",
      "Input \u001b[1;32mIn [6]\u001b[0m, in \u001b[0;36m<cell line: 2>\u001b[1;34m()\u001b[0m\n\u001b[0;32m      1\u001b[0m \u001b[38;5;66;03m#memanggil data numerik dan kategorik\u001b[39;00m\n\u001b[1;32m----> 2\u001b[0m X_train_num, X_train_cat \u001b[38;5;241m=\u001b[39m splitNumCat(data \u001b[38;5;241m=\u001b[39m \u001b[43mX_train\u001b[49m,\n\u001b[0;32m      3\u001b[0m                                        num_col \u001b[38;5;241m=\u001b[39m numerical_col,\n\u001b[0;32m      4\u001b[0m                                        cat_col \u001b[38;5;241m=\u001b[39m categorical_col)\n",
      "\u001b[1;31mNameError\u001b[0m: name 'X_train' is not defined"
     ]
    }
   ],
   "source": [
    "#memanggil data numerik dan kategorik\n",
    "X_train_num, X_train_cat = splitNumCat(data = X_train,\n",
    "                                       num_col = numerical_col,\n",
    "                                       cat_col = categorical_col)"
   ]
  },
  {
   "cell_type": "code",
   "execution_count": 19,
   "id": "49bb6b15-c1a5-4444-8d74-53c4c92d5880",
   "metadata": {},
   "outputs": [
    {
     "data": {
      "text/html": [
       "<div>\n",
       "<style scoped>\n",
       "    .dataframe tbody tr th:only-of-type {\n",
       "        vertical-align: middle;\n",
       "    }\n",
       "\n",
       "    .dataframe tbody tr th {\n",
       "        vertical-align: top;\n",
       "    }\n",
       "\n",
       "    .dataframe thead th {\n",
       "        text-align: right;\n",
       "    }\n",
       "</style>\n",
       "<table border=\"1\" class=\"dataframe\">\n",
       "  <thead>\n",
       "    <tr style=\"text-align: right;\">\n",
       "      <th></th>\n",
       "      <th>duration</th>\n",
       "      <th>campaign</th>\n",
       "      <th>previous</th>\n",
       "      <th>emp.var.rate</th>\n",
       "      <th>cons.price.idx</th>\n",
       "      <th>cons.conf.idx</th>\n",
       "      <th>euribor3m</th>\n",
       "      <th>nr.employed</th>\n",
       "    </tr>\n",
       "  </thead>\n",
       "  <tbody>\n",
       "    <tr>\n",
       "      <th>31748</th>\n",
       "      <td>195</td>\n",
       "      <td>1</td>\n",
       "      <td>0</td>\n",
       "      <td>-1.8</td>\n",
       "      <td>92.893</td>\n",
       "      <td>-46.2</td>\n",
       "      <td>1.327</td>\n",
       "      <td>5099.1</td>\n",
       "    </tr>\n",
       "    <tr>\n",
       "      <th>26671</th>\n",
       "      <td>239</td>\n",
       "      <td>1</td>\n",
       "      <td>0</td>\n",
       "      <td>-0.1</td>\n",
       "      <td>93.200</td>\n",
       "      <td>-42.0</td>\n",
       "      <td>4.076</td>\n",
       "      <td>5195.8</td>\n",
       "    </tr>\n",
       "    <tr>\n",
       "      <th>39007</th>\n",
       "      <td>124</td>\n",
       "      <td>1</td>\n",
       "      <td>0</td>\n",
       "      <td>-3.0</td>\n",
       "      <td>92.713</td>\n",
       "      <td>-33.0</td>\n",
       "      <td>0.715</td>\n",
       "      <td>5023.5</td>\n",
       "    </tr>\n",
       "    <tr>\n",
       "      <th>30262</th>\n",
       "      <td>85</td>\n",
       "      <td>1</td>\n",
       "      <td>0</td>\n",
       "      <td>-1.8</td>\n",
       "      <td>93.075</td>\n",
       "      <td>-47.1</td>\n",
       "      <td>1.365</td>\n",
       "      <td>5099.1</td>\n",
       "    </tr>\n",
       "    <tr>\n",
       "      <th>16695</th>\n",
       "      <td>1300</td>\n",
       "      <td>3</td>\n",
       "      <td>0</td>\n",
       "      <td>1.4</td>\n",
       "      <td>93.918</td>\n",
       "      <td>-42.7</td>\n",
       "      <td>4.963</td>\n",
       "      <td>5228.1</td>\n",
       "    </tr>\n",
       "  </tbody>\n",
       "</table>\n",
       "</div>"
      ],
      "text/plain": [
       "       duration  campaign  previous  emp.var.rate  cons.price.idx  \\\n",
       "31748       195         1         0          -1.8          92.893   \n",
       "26671       239         1         0          -0.1          93.200   \n",
       "39007       124         1         0          -3.0          92.713   \n",
       "30262        85         1         0          -1.8          93.075   \n",
       "16695      1300         3         0           1.4          93.918   \n",
       "\n",
       "       cons.conf.idx  euribor3m  nr.employed  \n",
       "31748          -46.2      1.327       5099.1  \n",
       "26671          -42.0      4.076       5195.8  \n",
       "39007          -33.0      0.715       5023.5  \n",
       "30262          -47.1      1.365       5099.1  \n",
       "16695          -42.7      4.963       5228.1  "
      ]
     },
     "execution_count": 19,
     "metadata": {},
     "output_type": "execute_result"
    }
   ],
   "source": [
    "#cek hasilnya\n",
    "X_train_num.head()"
   ]
  },
  {
   "cell_type": "markdown",
   "id": "572bfaca-f4af-4392-8862-00f29d5ed5e9",
   "metadata": {},
   "source": [
    "### Imputasi Nilai"
   ]
  },
  {
   "cell_type": "markdown",
   "id": "b077a494-bdd2-4f0f-b216-626bac101c77",
   "metadata": {},
   "source": [
    "Imputasi nilai dilakukan untuk berjaga-jaga jika terdapat data yang kosong pada data test. Untuk variabel numerik diisi dengan median, sedangkan untuk kategorik diisi dengan nilai constant. Imputer dibuat dari data train, namun diaplikasikan ke data train dan data test"
   ]
  },
  {
   "cell_type": "code",
   "execution_count": 20,
   "id": "3e2ad8b3-abf0-4793-976b-cf8e19bd0ca0",
   "metadata": {},
   "outputs": [],
   "source": [
    "# Buat imputer untuk jaga-jaga apabila di data test ada yang kosong\n",
    "from sklearn.impute import SimpleImputer\n",
    "\n",
    "def imputerNum(data, imputer = None):\n",
    "    \"\"\"\n",
    "    Fungsi untuk mengisi nilai pada data numerik\n",
    "    Parameter:\n",
    "    - data <pandas dataframe> : dataframe\n",
    "    - imputer <simple imputer> : jenis imputer\n",
    "    \n",
    "    return:\n",
    "    - data_imputed <pandas dataframe> : data setelah diimputasi\n",
    "    - imputer <simpel imputer> : imputer yang digunakan (untuk dapat digunakan di data lain)\n",
    "    \"\"\"\n",
    "    if imputer == None:\n",
    "        # Buat imputer dengan mengisi nilai median\n",
    "        imputer = SimpleImputer(missing_values = np.nan,\n",
    "                                strategy = \"median\")\n",
    "        imputer.fit(data)\n",
    "\n",
    "    # Transform data dengan imputer\n",
    "    data_imputed = imputer.transform(data)\n",
    "    data_imputed = pd.DataFrame(data_imputed,\n",
    "                                index = data.index,\n",
    "                                columns = data.columns)\n",
    "    \n",
    "    return data_imputed, imputer"
   ]
  },
  {
   "cell_type": "code",
   "execution_count": 21,
   "id": "05ac9562-0dce-45dc-9a27-45f557f76713",
   "metadata": {},
   "outputs": [
    {
     "data": {
      "text/html": [
       "<div>\n",
       "<style scoped>\n",
       "    .dataframe tbody tr th:only-of-type {\n",
       "        vertical-align: middle;\n",
       "    }\n",
       "\n",
       "    .dataframe tbody tr th {\n",
       "        vertical-align: top;\n",
       "    }\n",
       "\n",
       "    .dataframe thead th {\n",
       "        text-align: right;\n",
       "    }\n",
       "</style>\n",
       "<table border=\"1\" class=\"dataframe\">\n",
       "  <thead>\n",
       "    <tr style=\"text-align: right;\">\n",
       "      <th></th>\n",
       "      <th>duration</th>\n",
       "      <th>campaign</th>\n",
       "      <th>previous</th>\n",
       "      <th>emp.var.rate</th>\n",
       "      <th>cons.price.idx</th>\n",
       "      <th>cons.conf.idx</th>\n",
       "      <th>euribor3m</th>\n",
       "      <th>nr.employed</th>\n",
       "    </tr>\n",
       "  </thead>\n",
       "  <tbody>\n",
       "    <tr>\n",
       "      <th>31748</th>\n",
       "      <td>195.0</td>\n",
       "      <td>1.0</td>\n",
       "      <td>0.0</td>\n",
       "      <td>-1.8</td>\n",
       "      <td>92.893</td>\n",
       "      <td>-46.2</td>\n",
       "      <td>1.327</td>\n",
       "      <td>5099.1</td>\n",
       "    </tr>\n",
       "    <tr>\n",
       "      <th>26671</th>\n",
       "      <td>239.0</td>\n",
       "      <td>1.0</td>\n",
       "      <td>0.0</td>\n",
       "      <td>-0.1</td>\n",
       "      <td>93.200</td>\n",
       "      <td>-42.0</td>\n",
       "      <td>4.076</td>\n",
       "      <td>5195.8</td>\n",
       "    </tr>\n",
       "    <tr>\n",
       "      <th>39007</th>\n",
       "      <td>124.0</td>\n",
       "      <td>1.0</td>\n",
       "      <td>0.0</td>\n",
       "      <td>-3.0</td>\n",
       "      <td>92.713</td>\n",
       "      <td>-33.0</td>\n",
       "      <td>0.715</td>\n",
       "      <td>5023.5</td>\n",
       "    </tr>\n",
       "    <tr>\n",
       "      <th>30262</th>\n",
       "      <td>85.0</td>\n",
       "      <td>1.0</td>\n",
       "      <td>0.0</td>\n",
       "      <td>-1.8</td>\n",
       "      <td>93.075</td>\n",
       "      <td>-47.1</td>\n",
       "      <td>1.365</td>\n",
       "      <td>5099.1</td>\n",
       "    </tr>\n",
       "    <tr>\n",
       "      <th>16695</th>\n",
       "      <td>1300.0</td>\n",
       "      <td>3.0</td>\n",
       "      <td>0.0</td>\n",
       "      <td>1.4</td>\n",
       "      <td>93.918</td>\n",
       "      <td>-42.7</td>\n",
       "      <td>4.963</td>\n",
       "      <td>5228.1</td>\n",
       "    </tr>\n",
       "  </tbody>\n",
       "</table>\n",
       "</div>"
      ],
      "text/plain": [
       "       duration  campaign  previous  emp.var.rate  cons.price.idx  \\\n",
       "31748     195.0       1.0       0.0          -1.8          92.893   \n",
       "26671     239.0       1.0       0.0          -0.1          93.200   \n",
       "39007     124.0       1.0       0.0          -3.0          92.713   \n",
       "30262      85.0       1.0       0.0          -1.8          93.075   \n",
       "16695    1300.0       3.0       0.0           1.4          93.918   \n",
       "\n",
       "       cons.conf.idx  euribor3m  nr.employed  \n",
       "31748          -46.2      1.327       5099.1  \n",
       "26671          -42.0      4.076       5195.8  \n",
       "39007          -33.0      0.715       5023.5  \n",
       "30262          -47.1      1.365       5099.1  \n",
       "16695          -42.7      4.963       5228.1  "
      ]
     },
     "execution_count": 21,
     "metadata": {},
     "output_type": "execute_result"
    }
   ],
   "source": [
    "X_train_num_imputed, imputer_num = imputerNum(data = X_train_num)\n",
    "X_train_num_imputed.head()"
   ]
  },
  {
   "cell_type": "code",
   "execution_count": 22,
   "id": "87e655c7-42e5-42f8-a274-7eabb5087395",
   "metadata": {},
   "outputs": [],
   "source": [
    "def imputerCat(data, imputer = None):\n",
    "    \"\"\"\n",
    "    Fungsi untuk mengisi nilai pada data kategorikal\n",
    "    Parameter:\n",
    "    - data <pandas dataframe> : dataframe\n",
    "    - imputer <simple imputer> : jenis imputer\n",
    "    \n",
    "    return:\n",
    "    - data_imputed <pandas dataframe> : data setelah diimputasi\n",
    "    - imputer <simpel imputer> : imputer yang digunakan (untuk dapat digunakan di data lain)\n",
    "    \"\"\"\n",
    "    \n",
    "    if imputer == None:\n",
    "        # Buat imputer\n",
    "        imputer = SimpleImputer(missing_values = np.nan,\n",
    "                                strategy = \"constant\",\n",
    "                                fill_value = \"UNKNOWN\")\n",
    "        imputer.fit(data)\n",
    "\n",
    "    # Transform data dengan imputer\n",
    "    data_imputed = imputer.transform(data)\n",
    "    data_imputed = pd.DataFrame(data_imputed,\n",
    "                                index = data.index,\n",
    "                                columns = data.columns)\n",
    "    \n",
    "    return data_imputed, imputer"
   ]
  },
  {
   "cell_type": "code",
   "execution_count": 23,
   "id": "42c57ab6-1c5b-46d4-8a25-a938f8fdf0dd",
   "metadata": {},
   "outputs": [
    {
     "data": {
      "text/html": [
       "<div>\n",
       "<style scoped>\n",
       "    .dataframe tbody tr th:only-of-type {\n",
       "        vertical-align: middle;\n",
       "    }\n",
       "\n",
       "    .dataframe tbody tr th {\n",
       "        vertical-align: top;\n",
       "    }\n",
       "\n",
       "    .dataframe thead th {\n",
       "        text-align: right;\n",
       "    }\n",
       "</style>\n",
       "<table border=\"1\" class=\"dataframe\">\n",
       "  <thead>\n",
       "    <tr style=\"text-align: right;\">\n",
       "      <th></th>\n",
       "      <th>job</th>\n",
       "      <th>marital</th>\n",
       "      <th>education</th>\n",
       "      <th>default</th>\n",
       "      <th>housing</th>\n",
       "      <th>loan</th>\n",
       "      <th>contact</th>\n",
       "      <th>month</th>\n",
       "      <th>day_of_week</th>\n",
       "      <th>poutcome</th>\n",
       "      <th>pdays_group</th>\n",
       "      <th>age_group</th>\n",
       "    </tr>\n",
       "  </thead>\n",
       "  <tbody>\n",
       "    <tr>\n",
       "      <th>31748</th>\n",
       "      <td>blue-collar</td>\n",
       "      <td>married</td>\n",
       "      <td>basic.4y</td>\n",
       "      <td>no</td>\n",
       "      <td>yes</td>\n",
       "      <td>yes</td>\n",
       "      <td>cellular</td>\n",
       "      <td>may</td>\n",
       "      <td>thu</td>\n",
       "      <td>nonexistent</td>\n",
       "      <td>Not contacted</td>\n",
       "      <td>31-40</td>\n",
       "    </tr>\n",
       "    <tr>\n",
       "      <th>26671</th>\n",
       "      <td>technician</td>\n",
       "      <td>single</td>\n",
       "      <td>professional.course</td>\n",
       "      <td>unknown</td>\n",
       "      <td>yes</td>\n",
       "      <td>no</td>\n",
       "      <td>cellular</td>\n",
       "      <td>nov</td>\n",
       "      <td>thu</td>\n",
       "      <td>nonexistent</td>\n",
       "      <td>Not contacted</td>\n",
       "      <td>&lt;30</td>\n",
       "    </tr>\n",
       "    <tr>\n",
       "      <th>39007</th>\n",
       "      <td>management</td>\n",
       "      <td>married</td>\n",
       "      <td>professional.course</td>\n",
       "      <td>no</td>\n",
       "      <td>no</td>\n",
       "      <td>no</td>\n",
       "      <td>cellular</td>\n",
       "      <td>dec</td>\n",
       "      <td>wed</td>\n",
       "      <td>nonexistent</td>\n",
       "      <td>Not contacted</td>\n",
       "      <td>51-60</td>\n",
       "    </tr>\n",
       "    <tr>\n",
       "      <th>30262</th>\n",
       "      <td>entrepreneur</td>\n",
       "      <td>married</td>\n",
       "      <td>university.degree</td>\n",
       "      <td>no</td>\n",
       "      <td>no</td>\n",
       "      <td>no</td>\n",
       "      <td>cellular</td>\n",
       "      <td>apr</td>\n",
       "      <td>thu</td>\n",
       "      <td>nonexistent</td>\n",
       "      <td>Not contacted</td>\n",
       "      <td>51-60</td>\n",
       "    </tr>\n",
       "    <tr>\n",
       "      <th>16695</th>\n",
       "      <td>services</td>\n",
       "      <td>single</td>\n",
       "      <td>high.school</td>\n",
       "      <td>no</td>\n",
       "      <td>unknown</td>\n",
       "      <td>unknown</td>\n",
       "      <td>cellular</td>\n",
       "      <td>jul</td>\n",
       "      <td>wed</td>\n",
       "      <td>nonexistent</td>\n",
       "      <td>Not contacted</td>\n",
       "      <td>&lt;30</td>\n",
       "    </tr>\n",
       "  </tbody>\n",
       "</table>\n",
       "</div>"
      ],
      "text/plain": [
       "                job  marital            education  default  housing     loan  \\\n",
       "31748   blue-collar  married             basic.4y       no      yes      yes   \n",
       "26671    technician   single  professional.course  unknown      yes       no   \n",
       "39007    management  married  professional.course       no       no       no   \n",
       "30262  entrepreneur  married    university.degree       no       no       no   \n",
       "16695      services   single          high.school       no  unknown  unknown   \n",
       "\n",
       "        contact month day_of_week     poutcome    pdays_group age_group  \n",
       "31748  cellular   may         thu  nonexistent  Not contacted     31-40  \n",
       "26671  cellular   nov         thu  nonexistent  Not contacted       <30  \n",
       "39007  cellular   dec         wed  nonexistent  Not contacted     51-60  \n",
       "30262  cellular   apr         thu  nonexistent  Not contacted     51-60  \n",
       "16695  cellular   jul         wed  nonexistent  Not contacted       <30  "
      ]
     },
     "execution_count": 23,
     "metadata": {},
     "output_type": "execute_result"
    }
   ],
   "source": [
    "X_train_cat_imputed, imputer_cat = imputerCat(data = X_train_cat)\n",
    "X_train_cat_imputed.head()"
   ]
  },
  {
   "cell_type": "markdown",
   "id": "c36577ca-a4f0-49be-add0-566beb8d72f5",
   "metadata": {
    "tags": []
   },
   "source": [
    "### Encoding Data"
   ]
  },
  {
   "cell_type": "markdown",
   "id": "9a8a2c48-2958-47a6-8d3a-9e6a1db94946",
   "metadata": {},
   "source": [
    "Pada data kategorik, perlu diubah menjadi data numerik. Caranya adalah dengan menggunakan one hot encoding."
   ]
  },
  {
   "cell_type": "code",
   "execution_count": 24,
   "id": "943c48a1-2235-420a-bab3-0845c876bcea",
   "metadata": {},
   "outputs": [],
   "source": [
    "from sklearn.preprocessing import OneHotEncoder\n",
    "\n",
    "def encoderCat(data, encoder_col = None, encoder = None):\n",
    "    \"\"\"\n",
    "    Fungsi untuk encoding\n",
    "    Parameter:\n",
    "    - data <pandas dataframe> : dataframe\n",
    "    - encoder_col <list> (optional) : kolom yang diencoding\n",
    "    - encoder <list> (optional) : encoder yang digunakan\n",
    "    \n",
    "    return:\n",
    "    - data_encoded <pandas dataframe> : data setelah diencode\n",
    "    - encoder_col <list> : daftar kolom yang diencode\n",
    "    - encoder <encoder> : encoder\n",
    "    \"\"\"\n",
    "    \n",
    "    if encoder == None:\n",
    "        # Buat objek\n",
    "        encoder = OneHotEncoder(handle_unknown = \"ignore\",\n",
    "                                drop = \"if_binary\")\n",
    "        encoder.fit(data)\n",
    "        encoder_col = encoder.get_feature_names_out(data.columns)\n",
    "\n",
    "    # Transform data\n",
    "    data_encoded = encoder.transform(data).toarray()\n",
    "    data_encoded = pd.DataFrame(data_encoded,\n",
    "                                index = data.index,\n",
    "                                columns = encoder_col)\n",
    "    \n",
    "    return data_encoded, encoder_col, encoder\n"
   ]
  },
  {
   "cell_type": "code",
   "execution_count": 25,
   "id": "8073eeda-cfc6-4374-a1a0-2a7c108cf3a3",
   "metadata": {},
   "outputs": [
    {
     "data": {
      "text/html": [
       "<div>\n",
       "<style scoped>\n",
       "    .dataframe tbody tr th:only-of-type {\n",
       "        vertical-align: middle;\n",
       "    }\n",
       "\n",
       "    .dataframe tbody tr th {\n",
       "        vertical-align: top;\n",
       "    }\n",
       "\n",
       "    .dataframe thead th {\n",
       "        text-align: right;\n",
       "    }\n",
       "</style>\n",
       "<table border=\"1\" class=\"dataframe\">\n",
       "  <thead>\n",
       "    <tr style=\"text-align: right;\">\n",
       "      <th></th>\n",
       "      <th>job_admin.</th>\n",
       "      <th>job_blue-collar</th>\n",
       "      <th>job_entrepreneur</th>\n",
       "      <th>job_housemaid</th>\n",
       "      <th>job_management</th>\n",
       "      <th>job_retired</th>\n",
       "      <th>job_self-employed</th>\n",
       "      <th>job_services</th>\n",
       "      <th>job_student</th>\n",
       "      <th>job_technician</th>\n",
       "      <th>...</th>\n",
       "      <th>poutcome_success</th>\n",
       "      <th>pdays_group_1w</th>\n",
       "      <th>pdays_group_2w</th>\n",
       "      <th>pdays_group_&gt;2w</th>\n",
       "      <th>pdays_group_Not contacted</th>\n",
       "      <th>age_group_31-40</th>\n",
       "      <th>age_group_41-50</th>\n",
       "      <th>age_group_51-60</th>\n",
       "      <th>age_group_&lt;30</th>\n",
       "      <th>age_group_&gt;60</th>\n",
       "    </tr>\n",
       "  </thead>\n",
       "  <tbody>\n",
       "    <tr>\n",
       "      <th>31748</th>\n",
       "      <td>0.0</td>\n",
       "      <td>1.0</td>\n",
       "      <td>0.0</td>\n",
       "      <td>0.0</td>\n",
       "      <td>0.0</td>\n",
       "      <td>0.0</td>\n",
       "      <td>0.0</td>\n",
       "      <td>0.0</td>\n",
       "      <td>0.0</td>\n",
       "      <td>0.0</td>\n",
       "      <td>...</td>\n",
       "      <td>0.0</td>\n",
       "      <td>0.0</td>\n",
       "      <td>0.0</td>\n",
       "      <td>0.0</td>\n",
       "      <td>1.0</td>\n",
       "      <td>1.0</td>\n",
       "      <td>0.0</td>\n",
       "      <td>0.0</td>\n",
       "      <td>0.0</td>\n",
       "      <td>0.0</td>\n",
       "    </tr>\n",
       "    <tr>\n",
       "      <th>26671</th>\n",
       "      <td>0.0</td>\n",
       "      <td>0.0</td>\n",
       "      <td>0.0</td>\n",
       "      <td>0.0</td>\n",
       "      <td>0.0</td>\n",
       "      <td>0.0</td>\n",
       "      <td>0.0</td>\n",
       "      <td>0.0</td>\n",
       "      <td>0.0</td>\n",
       "      <td>1.0</td>\n",
       "      <td>...</td>\n",
       "      <td>0.0</td>\n",
       "      <td>0.0</td>\n",
       "      <td>0.0</td>\n",
       "      <td>0.0</td>\n",
       "      <td>1.0</td>\n",
       "      <td>0.0</td>\n",
       "      <td>0.0</td>\n",
       "      <td>0.0</td>\n",
       "      <td>1.0</td>\n",
       "      <td>0.0</td>\n",
       "    </tr>\n",
       "    <tr>\n",
       "      <th>39007</th>\n",
       "      <td>0.0</td>\n",
       "      <td>0.0</td>\n",
       "      <td>0.0</td>\n",
       "      <td>0.0</td>\n",
       "      <td>1.0</td>\n",
       "      <td>0.0</td>\n",
       "      <td>0.0</td>\n",
       "      <td>0.0</td>\n",
       "      <td>0.0</td>\n",
       "      <td>0.0</td>\n",
       "      <td>...</td>\n",
       "      <td>0.0</td>\n",
       "      <td>0.0</td>\n",
       "      <td>0.0</td>\n",
       "      <td>0.0</td>\n",
       "      <td>1.0</td>\n",
       "      <td>0.0</td>\n",
       "      <td>0.0</td>\n",
       "      <td>1.0</td>\n",
       "      <td>0.0</td>\n",
       "      <td>0.0</td>\n",
       "    </tr>\n",
       "    <tr>\n",
       "      <th>30262</th>\n",
       "      <td>0.0</td>\n",
       "      <td>0.0</td>\n",
       "      <td>1.0</td>\n",
       "      <td>0.0</td>\n",
       "      <td>0.0</td>\n",
       "      <td>0.0</td>\n",
       "      <td>0.0</td>\n",
       "      <td>0.0</td>\n",
       "      <td>0.0</td>\n",
       "      <td>0.0</td>\n",
       "      <td>...</td>\n",
       "      <td>0.0</td>\n",
       "      <td>0.0</td>\n",
       "      <td>0.0</td>\n",
       "      <td>0.0</td>\n",
       "      <td>1.0</td>\n",
       "      <td>0.0</td>\n",
       "      <td>0.0</td>\n",
       "      <td>1.0</td>\n",
       "      <td>0.0</td>\n",
       "      <td>0.0</td>\n",
       "    </tr>\n",
       "    <tr>\n",
       "      <th>16695</th>\n",
       "      <td>0.0</td>\n",
       "      <td>0.0</td>\n",
       "      <td>0.0</td>\n",
       "      <td>0.0</td>\n",
       "      <td>0.0</td>\n",
       "      <td>0.0</td>\n",
       "      <td>0.0</td>\n",
       "      <td>1.0</td>\n",
       "      <td>0.0</td>\n",
       "      <td>0.0</td>\n",
       "      <td>...</td>\n",
       "      <td>0.0</td>\n",
       "      <td>0.0</td>\n",
       "      <td>0.0</td>\n",
       "      <td>0.0</td>\n",
       "      <td>1.0</td>\n",
       "      <td>0.0</td>\n",
       "      <td>0.0</td>\n",
       "      <td>0.0</td>\n",
       "      <td>1.0</td>\n",
       "      <td>0.0</td>\n",
       "    </tr>\n",
       "  </tbody>\n",
       "</table>\n",
       "<p>5 rows × 61 columns</p>\n",
       "</div>"
      ],
      "text/plain": [
       "       job_admin.  job_blue-collar  job_entrepreneur  job_housemaid  \\\n",
       "31748         0.0              1.0               0.0            0.0   \n",
       "26671         0.0              0.0               0.0            0.0   \n",
       "39007         0.0              0.0               0.0            0.0   \n",
       "30262         0.0              0.0               1.0            0.0   \n",
       "16695         0.0              0.0               0.0            0.0   \n",
       "\n",
       "       job_management  job_retired  job_self-employed  job_services  \\\n",
       "31748             0.0          0.0                0.0           0.0   \n",
       "26671             0.0          0.0                0.0           0.0   \n",
       "39007             1.0          0.0                0.0           0.0   \n",
       "30262             0.0          0.0                0.0           0.0   \n",
       "16695             0.0          0.0                0.0           1.0   \n",
       "\n",
       "       job_student  job_technician  ...  poutcome_success  pdays_group_1w  \\\n",
       "31748          0.0             0.0  ...               0.0             0.0   \n",
       "26671          0.0             1.0  ...               0.0             0.0   \n",
       "39007          0.0             0.0  ...               0.0             0.0   \n",
       "30262          0.0             0.0  ...               0.0             0.0   \n",
       "16695          0.0             0.0  ...               0.0             0.0   \n",
       "\n",
       "       pdays_group_2w  pdays_group_>2w  pdays_group_Not contacted  \\\n",
       "31748             0.0              0.0                        1.0   \n",
       "26671             0.0              0.0                        1.0   \n",
       "39007             0.0              0.0                        1.0   \n",
       "30262             0.0              0.0                        1.0   \n",
       "16695             0.0              0.0                        1.0   \n",
       "\n",
       "       age_group_31-40  age_group_41-50  age_group_51-60  age_group_<30  \\\n",
       "31748              1.0              0.0              0.0            0.0   \n",
       "26671              0.0              0.0              0.0            1.0   \n",
       "39007              0.0              0.0              1.0            0.0   \n",
       "30262              0.0              0.0              1.0            0.0   \n",
       "16695              0.0              0.0              0.0            1.0   \n",
       "\n",
       "       age_group_>60  \n",
       "31748            0.0  \n",
       "26671            0.0  \n",
       "39007            0.0  \n",
       "30262            0.0  \n",
       "16695            0.0  \n",
       "\n",
       "[5 rows x 61 columns]"
      ]
     },
     "execution_count": 25,
     "metadata": {},
     "output_type": "execute_result"
    }
   ],
   "source": [
    "X_train_cat_encoded, encoder_col, encoder_OHE = encoderCat(data = X_train_cat_imputed)\n",
    "X_train_cat_encoded.head()"
   ]
  },
  {
   "cell_type": "markdown",
   "id": "c460c4ba-1568-4a04-8ada-30cfd87f7281",
   "metadata": {},
   "source": [
    "### Menggabungkan data numerik dan kategorik"
   ]
  },
  {
   "cell_type": "markdown",
   "id": "c8434e22-f5df-42bc-8f4f-d81af5a183b3",
   "metadata": {},
   "source": [
    "Sebelum dilakukan fitting, kita perlu menggabungkan terlebih dahulu data numerik dan data kategorikal."
   ]
  },
  {
   "cell_type": "code",
   "execution_count": 26,
   "id": "954eb97e-cb23-400d-bb1e-ef94170e9635",
   "metadata": {},
   "outputs": [
    {
     "data": {
      "text/html": [
       "<div>\n",
       "<style scoped>\n",
       "    .dataframe tbody tr th:only-of-type {\n",
       "        vertical-align: middle;\n",
       "    }\n",
       "\n",
       "    .dataframe tbody tr th {\n",
       "        vertical-align: top;\n",
       "    }\n",
       "\n",
       "    .dataframe thead th {\n",
       "        text-align: right;\n",
       "    }\n",
       "</style>\n",
       "<table border=\"1\" class=\"dataframe\">\n",
       "  <thead>\n",
       "    <tr style=\"text-align: right;\">\n",
       "      <th></th>\n",
       "      <th>duration</th>\n",
       "      <th>campaign</th>\n",
       "      <th>previous</th>\n",
       "      <th>emp.var.rate</th>\n",
       "      <th>cons.price.idx</th>\n",
       "      <th>cons.conf.idx</th>\n",
       "      <th>euribor3m</th>\n",
       "      <th>nr.employed</th>\n",
       "      <th>job_admin.</th>\n",
       "      <th>job_blue-collar</th>\n",
       "      <th>...</th>\n",
       "      <th>poutcome_success</th>\n",
       "      <th>pdays_group_1w</th>\n",
       "      <th>pdays_group_2w</th>\n",
       "      <th>pdays_group_&gt;2w</th>\n",
       "      <th>pdays_group_Not contacted</th>\n",
       "      <th>age_group_31-40</th>\n",
       "      <th>age_group_41-50</th>\n",
       "      <th>age_group_51-60</th>\n",
       "      <th>age_group_&lt;30</th>\n",
       "      <th>age_group_&gt;60</th>\n",
       "    </tr>\n",
       "  </thead>\n",
       "  <tbody>\n",
       "    <tr>\n",
       "      <th>31748</th>\n",
       "      <td>195.0</td>\n",
       "      <td>1.0</td>\n",
       "      <td>0.0</td>\n",
       "      <td>-1.8</td>\n",
       "      <td>92.893</td>\n",
       "      <td>-46.2</td>\n",
       "      <td>1.327</td>\n",
       "      <td>5099.1</td>\n",
       "      <td>0.0</td>\n",
       "      <td>1.0</td>\n",
       "      <td>...</td>\n",
       "      <td>0.0</td>\n",
       "      <td>0.0</td>\n",
       "      <td>0.0</td>\n",
       "      <td>0.0</td>\n",
       "      <td>1.0</td>\n",
       "      <td>1.0</td>\n",
       "      <td>0.0</td>\n",
       "      <td>0.0</td>\n",
       "      <td>0.0</td>\n",
       "      <td>0.0</td>\n",
       "    </tr>\n",
       "    <tr>\n",
       "      <th>26671</th>\n",
       "      <td>239.0</td>\n",
       "      <td>1.0</td>\n",
       "      <td>0.0</td>\n",
       "      <td>-0.1</td>\n",
       "      <td>93.200</td>\n",
       "      <td>-42.0</td>\n",
       "      <td>4.076</td>\n",
       "      <td>5195.8</td>\n",
       "      <td>0.0</td>\n",
       "      <td>0.0</td>\n",
       "      <td>...</td>\n",
       "      <td>0.0</td>\n",
       "      <td>0.0</td>\n",
       "      <td>0.0</td>\n",
       "      <td>0.0</td>\n",
       "      <td>1.0</td>\n",
       "      <td>0.0</td>\n",
       "      <td>0.0</td>\n",
       "      <td>0.0</td>\n",
       "      <td>1.0</td>\n",
       "      <td>0.0</td>\n",
       "    </tr>\n",
       "    <tr>\n",
       "      <th>39007</th>\n",
       "      <td>124.0</td>\n",
       "      <td>1.0</td>\n",
       "      <td>0.0</td>\n",
       "      <td>-3.0</td>\n",
       "      <td>92.713</td>\n",
       "      <td>-33.0</td>\n",
       "      <td>0.715</td>\n",
       "      <td>5023.5</td>\n",
       "      <td>0.0</td>\n",
       "      <td>0.0</td>\n",
       "      <td>...</td>\n",
       "      <td>0.0</td>\n",
       "      <td>0.0</td>\n",
       "      <td>0.0</td>\n",
       "      <td>0.0</td>\n",
       "      <td>1.0</td>\n",
       "      <td>0.0</td>\n",
       "      <td>0.0</td>\n",
       "      <td>1.0</td>\n",
       "      <td>0.0</td>\n",
       "      <td>0.0</td>\n",
       "    </tr>\n",
       "    <tr>\n",
       "      <th>30262</th>\n",
       "      <td>85.0</td>\n",
       "      <td>1.0</td>\n",
       "      <td>0.0</td>\n",
       "      <td>-1.8</td>\n",
       "      <td>93.075</td>\n",
       "      <td>-47.1</td>\n",
       "      <td>1.365</td>\n",
       "      <td>5099.1</td>\n",
       "      <td>0.0</td>\n",
       "      <td>0.0</td>\n",
       "      <td>...</td>\n",
       "      <td>0.0</td>\n",
       "      <td>0.0</td>\n",
       "      <td>0.0</td>\n",
       "      <td>0.0</td>\n",
       "      <td>1.0</td>\n",
       "      <td>0.0</td>\n",
       "      <td>0.0</td>\n",
       "      <td>1.0</td>\n",
       "      <td>0.0</td>\n",
       "      <td>0.0</td>\n",
       "    </tr>\n",
       "    <tr>\n",
       "      <th>16695</th>\n",
       "      <td>1300.0</td>\n",
       "      <td>3.0</td>\n",
       "      <td>0.0</td>\n",
       "      <td>1.4</td>\n",
       "      <td>93.918</td>\n",
       "      <td>-42.7</td>\n",
       "      <td>4.963</td>\n",
       "      <td>5228.1</td>\n",
       "      <td>0.0</td>\n",
       "      <td>0.0</td>\n",
       "      <td>...</td>\n",
       "      <td>0.0</td>\n",
       "      <td>0.0</td>\n",
       "      <td>0.0</td>\n",
       "      <td>0.0</td>\n",
       "      <td>1.0</td>\n",
       "      <td>0.0</td>\n",
       "      <td>0.0</td>\n",
       "      <td>0.0</td>\n",
       "      <td>1.0</td>\n",
       "      <td>0.0</td>\n",
       "    </tr>\n",
       "  </tbody>\n",
       "</table>\n",
       "<p>5 rows × 69 columns</p>\n",
       "</div>"
      ],
      "text/plain": [
       "       duration  campaign  previous  emp.var.rate  cons.price.idx  \\\n",
       "31748     195.0       1.0       0.0          -1.8          92.893   \n",
       "26671     239.0       1.0       0.0          -0.1          93.200   \n",
       "39007     124.0       1.0       0.0          -3.0          92.713   \n",
       "30262      85.0       1.0       0.0          -1.8          93.075   \n",
       "16695    1300.0       3.0       0.0           1.4          93.918   \n",
       "\n",
       "       cons.conf.idx  euribor3m  nr.employed  job_admin.  job_blue-collar  \\\n",
       "31748          -46.2      1.327       5099.1         0.0              1.0   \n",
       "26671          -42.0      4.076       5195.8         0.0              0.0   \n",
       "39007          -33.0      0.715       5023.5         0.0              0.0   \n",
       "30262          -47.1      1.365       5099.1         0.0              0.0   \n",
       "16695          -42.7      4.963       5228.1         0.0              0.0   \n",
       "\n",
       "       ...  poutcome_success  pdays_group_1w  pdays_group_2w  pdays_group_>2w  \\\n",
       "31748  ...               0.0             0.0             0.0              0.0   \n",
       "26671  ...               0.0             0.0             0.0              0.0   \n",
       "39007  ...               0.0             0.0             0.0              0.0   \n",
       "30262  ...               0.0             0.0             0.0              0.0   \n",
       "16695  ...               0.0             0.0             0.0              0.0   \n",
       "\n",
       "       pdays_group_Not contacted  age_group_31-40  age_group_41-50  \\\n",
       "31748                        1.0              1.0              0.0   \n",
       "26671                        1.0              0.0              0.0   \n",
       "39007                        1.0              0.0              0.0   \n",
       "30262                        1.0              0.0              0.0   \n",
       "16695                        1.0              0.0              0.0   \n",
       "\n",
       "       age_group_51-60  age_group_<30  age_group_>60  \n",
       "31748              0.0            0.0            0.0  \n",
       "26671              0.0            1.0            0.0  \n",
       "39007              1.0            0.0            0.0  \n",
       "30262              1.0            0.0            0.0  \n",
       "16695              0.0            1.0            0.0  \n",
       "\n",
       "[5 rows x 69 columns]"
      ]
     },
     "execution_count": 26,
     "metadata": {},
     "output_type": "execute_result"
    }
   ],
   "source": [
    "X_train_concat = pd.concat([X_train_num_imputed,\n",
    "                            X_train_cat_encoded],\n",
    "                           axis = 1)\n",
    "X_train_concat.head()"
   ]
  },
  {
   "cell_type": "code",
   "execution_count": 27,
   "id": "5dfb1797-6a0e-496b-90c1-81176125eafb",
   "metadata": {},
   "outputs": [
    {
     "data": {
      "text/plain": [
       "0    0.563477\n",
       "1    4.438405\n",
       "Name: y, dtype: float64"
      ]
     },
     "execution_count": 27,
     "metadata": {},
     "output_type": "execute_result"
    }
   ],
   "source": [
    "n_samples = len(y_train)\n",
    "n_classes = len(y_train.value_counts())\n",
    "n_samples_j = y_train.value_counts()\n",
    "\n",
    "class_weight = n_samples / (n_classes * n_samples_j)\n",
    "class_weight"
   ]
  },
  {
   "cell_type": "markdown",
   "id": "6a7123c0-5fc5-4a48-b3f6-6ee62b83cc37",
   "metadata": {
    "jp-MarkdownHeadingCollapsed": true,
    "tags": []
   },
   "source": [
    "### Handling Imbalanced Data"
   ]
  },
  {
   "cell_type": "markdown",
   "id": "6f4bf364-e1fe-4c6a-8d4f-989032cc1424",
   "metadata": {},
   "source": [
    "Data yang digunakan merupakan unbalanced data, sehingga kita perlu melakukan oversampling dengan SMOTE"
   ]
  },
  {
   "cell_type": "code",
   "execution_count": 28,
   "id": "48f5c871-2b3a-4705-9c49-fd5053ae35d7",
   "metadata": {},
   "outputs": [],
   "source": [
    "from imblearn.over_sampling import SMOTE"
   ]
  },
  {
   "cell_type": "code",
   "execution_count": 29,
   "id": "5dfde94c-2451-44cb-a35c-17dc8401f3c3",
   "metadata": {},
   "outputs": [],
   "source": [
    "sm = SMOTE(sampling_strategy = 'not majority', k_neighbors = 50, random_state = 123)\n",
    "\n",
    "X_train_smote, y_train = sm.fit_resample(X_train_concat, y_train)"
   ]
  },
  {
   "cell_type": "code",
   "execution_count": 29,
   "id": "974fad89-d8f1-42f6-a411-21a1e8f5c497",
   "metadata": {},
   "outputs": [],
   "source": [
    "smt = SMOTE(sampling_strategy = \"minority\",\n",
    "           random_state = 123)\n",
    "\n",
    "X_train_smote, y_train = smt.fit_resample(X_train_concat, y_train)"
   ]
  },
  {
   "cell_type": "code",
   "execution_count": 30,
   "id": "4b05a76e-e690-4efd-ba1b-ec3fe9f4c3ca",
   "metadata": {},
   "outputs": [
    {
     "data": {
      "text/plain": [
       "0    25576\n",
       "1    25576\n",
       "Name: y, dtype: int64"
      ]
     },
     "execution_count": 30,
     "metadata": {},
     "output_type": "execute_result"
    }
   ],
   "source": [
    "y_train.value_counts()"
   ]
  },
  {
   "cell_type": "markdown",
   "id": "8a79f826-410a-4a12-914c-d6090d4b0f73",
   "metadata": {},
   "source": [
    "### Standarisasi"
   ]
  },
  {
   "cell_type": "markdown",
   "id": "4f8728b8-edb4-4d3f-9331-d501dc721337",
   "metadata": {},
   "source": [
    "Pemodelan yang digunakan tidak sensitif terhadap jarak. Sehingga sebenarnya tidak perlu dilakukan standarisasi. Namun, jika ingin dapat digunakan untuk model yang lain yang sensitif terhadap jarak, maka bisa kita lakukan standarisasi terlebih dahulu."
   ]
  },
  {
   "cell_type": "code",
   "execution_count": 31,
   "id": "15e5250c-8ced-4e3c-a500-71cc0b507cb1",
   "metadata": {},
   "outputs": [],
   "source": [
    "from sklearn.preprocessing import StandardScaler"
   ]
  },
  {
   "cell_type": "code",
   "execution_count": 32,
   "id": "d68adc5b-4c61-4094-b1cd-64ec0e67e29b",
   "metadata": {},
   "outputs": [],
   "source": [
    "def standardizeData(data, scaler = None):\n",
    "    \"\"\"\n",
    "    Fungsi untuk encoding\n",
    "    Parameter:\n",
    "    - data <pandas dataframe> : dataframe\n",
    "    - scaler <scaler> (optional) : scaler yang digunakan\n",
    "    \n",
    "    return:\n",
    "    - data_scaled <pandas dataframe> : data setelah distandarisasi\n",
    "    - scaler <list> : scaler yang digunakan\n",
    "    \"\"\"\n",
    "    \n",
    "    if scaler == None:\n",
    "        # Buat & Fit scaler\n",
    "        scaler = StandardScaler()\n",
    "        scaler.fit(data)\n",
    "\n",
    "    # Tranform data\n",
    "    data_scaled = scaler.transform(data)\n",
    "    data_scaled = pd.DataFrame(data_scaled,\n",
    "                               index = data.index,\n",
    "                               columns = data.columns)\n",
    "    \n",
    "    return data_scaled, scaler"
   ]
  },
  {
   "cell_type": "code",
   "execution_count": 32,
   "id": "f8434855-e36e-4730-acd6-e5b1ac5457a2",
   "metadata": {},
   "outputs": [
    {
     "data": {
      "text/html": [
       "<div>\n",
       "<style scoped>\n",
       "    .dataframe tbody tr th:only-of-type {\n",
       "        vertical-align: middle;\n",
       "    }\n",
       "\n",
       "    .dataframe tbody tr th {\n",
       "        vertical-align: top;\n",
       "    }\n",
       "\n",
       "    .dataframe thead th {\n",
       "        text-align: right;\n",
       "    }\n",
       "</style>\n",
       "<table border=\"1\" class=\"dataframe\">\n",
       "  <thead>\n",
       "    <tr style=\"text-align: right;\">\n",
       "      <th></th>\n",
       "      <th>duration</th>\n",
       "      <th>campaign</th>\n",
       "      <th>previous</th>\n",
       "      <th>emp.var.rate</th>\n",
       "      <th>cons.price.idx</th>\n",
       "      <th>cons.conf.idx</th>\n",
       "      <th>euribor3m</th>\n",
       "      <th>nr.employed</th>\n",
       "      <th>job_admin.</th>\n",
       "      <th>job_blue-collar</th>\n",
       "      <th>...</th>\n",
       "      <th>poutcome_success</th>\n",
       "      <th>pdays_group_1w</th>\n",
       "      <th>pdays_group_2w</th>\n",
       "      <th>pdays_group_&gt;2w</th>\n",
       "      <th>pdays_group_Not contacted</th>\n",
       "      <th>age_group_31-40</th>\n",
       "      <th>age_group_41-50</th>\n",
       "      <th>age_group_51-60</th>\n",
       "      <th>age_group_&lt;30</th>\n",
       "      <th>age_group_&gt;60</th>\n",
       "    </tr>\n",
       "  </thead>\n",
       "  <tbody>\n",
       "    <tr>\n",
       "      <th>0</th>\n",
       "      <td>-0.530927</td>\n",
       "      <td>-0.579334</td>\n",
       "      <td>-0.479745</td>\n",
       "      <td>-0.763185</td>\n",
       "      <td>-0.943031</td>\n",
       "      <td>-1.127571</td>\n",
       "      <td>-0.868198</td>\n",
       "      <td>-0.418382</td>\n",
       "      <td>-0.656151</td>\n",
       "      <td>2.191419</td>\n",
       "      <td>...</td>\n",
       "      <td>-0.370712</td>\n",
       "      <td>-0.341911</td>\n",
       "      <td>-0.152105</td>\n",
       "      <td>-0.079206</td>\n",
       "      <td>0.382659</td>\n",
       "      <td>1.393692</td>\n",
       "      <td>-0.561879</td>\n",
       "      <td>-0.452425</td>\n",
       "      <td>-0.559041</td>\n",
       "      <td>-0.262445</td>\n",
       "    </tr>\n",
       "    <tr>\n",
       "      <th>1</th>\n",
       "      <td>-0.408952</td>\n",
       "      <td>-0.579334</td>\n",
       "      <td>-0.479745</td>\n",
       "      <td>0.226006</td>\n",
       "      <td>-0.452332</td>\n",
       "      <td>-0.333839</td>\n",
       "      <td>0.586734</td>\n",
       "      <td>0.690592</td>\n",
       "      <td>-0.656151</td>\n",
       "      <td>-0.510090</td>\n",
       "      <td>...</td>\n",
       "      <td>-0.370712</td>\n",
       "      <td>-0.341911</td>\n",
       "      <td>-0.152105</td>\n",
       "      <td>-0.079206</td>\n",
       "      <td>0.382659</td>\n",
       "      <td>-0.832297</td>\n",
       "      <td>-0.561879</td>\n",
       "      <td>-0.452425</td>\n",
       "      <td>2.122502</td>\n",
       "      <td>-0.262445</td>\n",
       "    </tr>\n",
       "    <tr>\n",
       "      <th>2</th>\n",
       "      <td>-0.727752</td>\n",
       "      <td>-0.579334</td>\n",
       "      <td>-0.479745</td>\n",
       "      <td>-1.461438</td>\n",
       "      <td>-1.230738</td>\n",
       "      <td>1.367015</td>\n",
       "      <td>-1.192105</td>\n",
       "      <td>-1.285377</td>\n",
       "      <td>-0.656151</td>\n",
       "      <td>-0.510090</td>\n",
       "      <td>...</td>\n",
       "      <td>-0.370712</td>\n",
       "      <td>-0.341911</td>\n",
       "      <td>-0.152105</td>\n",
       "      <td>-0.079206</td>\n",
       "      <td>0.382659</td>\n",
       "      <td>-0.832297</td>\n",
       "      <td>-0.561879</td>\n",
       "      <td>2.575435</td>\n",
       "      <td>-0.559041</td>\n",
       "      <td>-0.262445</td>\n",
       "    </tr>\n",
       "    <tr>\n",
       "      <th>3</th>\n",
       "      <td>-0.835866</td>\n",
       "      <td>-0.579334</td>\n",
       "      <td>-0.479745</td>\n",
       "      <td>-0.763185</td>\n",
       "      <td>-0.652128</td>\n",
       "      <td>-1.297657</td>\n",
       "      <td>-0.848086</td>\n",
       "      <td>-0.418382</td>\n",
       "      <td>-0.656151</td>\n",
       "      <td>-0.510090</td>\n",
       "      <td>...</td>\n",
       "      <td>-0.370712</td>\n",
       "      <td>-0.341911</td>\n",
       "      <td>-0.152105</td>\n",
       "      <td>-0.079206</td>\n",
       "      <td>0.382659</td>\n",
       "      <td>-0.832297</td>\n",
       "      <td>-0.561879</td>\n",
       "      <td>2.575435</td>\n",
       "      <td>-0.559041</td>\n",
       "      <td>-0.262445</td>\n",
       "    </tr>\n",
       "    <tr>\n",
       "      <th>4</th>\n",
       "      <td>2.532326</td>\n",
       "      <td>0.304858</td>\n",
       "      <td>-0.479745</td>\n",
       "      <td>1.098822</td>\n",
       "      <td>0.695296</td>\n",
       "      <td>-0.466128</td>\n",
       "      <td>1.056187</td>\n",
       "      <td>1.061015</td>\n",
       "      <td>-0.656151</td>\n",
       "      <td>-0.510090</td>\n",
       "      <td>...</td>\n",
       "      <td>-0.370712</td>\n",
       "      <td>-0.341911</td>\n",
       "      <td>-0.152105</td>\n",
       "      <td>-0.079206</td>\n",
       "      <td>0.382659</td>\n",
       "      <td>-0.832297</td>\n",
       "      <td>-0.561879</td>\n",
       "      <td>-0.452425</td>\n",
       "      <td>2.122502</td>\n",
       "      <td>-0.262445</td>\n",
       "    </tr>\n",
       "  </tbody>\n",
       "</table>\n",
       "<p>5 rows × 69 columns</p>\n",
       "</div>"
      ],
      "text/plain": [
       "   duration  campaign  previous  emp.var.rate  cons.price.idx  cons.conf.idx  \\\n",
       "0 -0.530927 -0.579334 -0.479745     -0.763185       -0.943031      -1.127571   \n",
       "1 -0.408952 -0.579334 -0.479745      0.226006       -0.452332      -0.333839   \n",
       "2 -0.727752 -0.579334 -0.479745     -1.461438       -1.230738       1.367015   \n",
       "3 -0.835866 -0.579334 -0.479745     -0.763185       -0.652128      -1.297657   \n",
       "4  2.532326  0.304858 -0.479745      1.098822        0.695296      -0.466128   \n",
       "\n",
       "   euribor3m  nr.employed  job_admin.  job_blue-collar  ...  poutcome_success  \\\n",
       "0  -0.868198    -0.418382   -0.656151         2.191419  ...         -0.370712   \n",
       "1   0.586734     0.690592   -0.656151        -0.510090  ...         -0.370712   \n",
       "2  -1.192105    -1.285377   -0.656151        -0.510090  ...         -0.370712   \n",
       "3  -0.848086    -0.418382   -0.656151        -0.510090  ...         -0.370712   \n",
       "4   1.056187     1.061015   -0.656151        -0.510090  ...         -0.370712   \n",
       "\n",
       "   pdays_group_1w  pdays_group_2w  pdays_group_>2w  pdays_group_Not contacted  \\\n",
       "0       -0.341911       -0.152105        -0.079206                   0.382659   \n",
       "1       -0.341911       -0.152105        -0.079206                   0.382659   \n",
       "2       -0.341911       -0.152105        -0.079206                   0.382659   \n",
       "3       -0.341911       -0.152105        -0.079206                   0.382659   \n",
       "4       -0.341911       -0.152105        -0.079206                   0.382659   \n",
       "\n",
       "   age_group_31-40  age_group_41-50  age_group_51-60  age_group_<30  \\\n",
       "0         1.393692        -0.561879        -0.452425      -0.559041   \n",
       "1        -0.832297        -0.561879        -0.452425       2.122502   \n",
       "2        -0.832297        -0.561879         2.575435      -0.559041   \n",
       "3        -0.832297        -0.561879         2.575435      -0.559041   \n",
       "4        -0.832297        -0.561879        -0.452425       2.122502   \n",
       "\n",
       "   age_group_>60  \n",
       "0      -0.262445  \n",
       "1      -0.262445  \n",
       "2      -0.262445  \n",
       "3      -0.262445  \n",
       "4      -0.262445  \n",
       "\n",
       "[5 rows x 69 columns]"
      ]
     },
     "execution_count": 32,
     "metadata": {},
     "output_type": "execute_result"
    }
   ],
   "source": [
    "X_train_clean, scaler = standardizeData(data = X_train_smote)\n",
    "X_train_clean.head()"
   ]
  },
  {
   "cell_type": "markdown",
   "id": "8558a709-5a32-4888-892d-3fc57b4910d2",
   "metadata": {},
   "source": [
    "### Transformasi terhadap data test"
   ]
  },
  {
   "cell_type": "markdown",
   "id": "94695f3b-9c17-470d-a375-465ca05c53f7",
   "metadata": {},
   "source": [
    "Agar dapat digunakan, data test juga perlu dilakukan transformasi juga. Namun, parameter-parameter yang digunakan untuk mengimputasi dan standarisasi kita ambil dari yang sudah kita buat pada data training"
   ]
  },
  {
   "cell_type": "code",
   "execution_count": 28,
   "id": "444f96c8-817d-402f-a340-9c1c65224e70",
   "metadata": {},
   "outputs": [],
   "source": [
    "def transformTestData(data, num_col, cat_col, encoder_col,\n",
    "                      imputer_num, imputer_cat, encoder_cat):\n",
    "    \n",
    "    # konversi pdays\n",
    "    data_conv_pdays = convertPdaysGroup(df=data)\n",
    "    \n",
    "    #konversi age\n",
    "    data_conv_age = convertAgeGroup(df=data_conv_pdays)\n",
    "    \n",
    "    \n",
    "    #Split num-cat\n",
    "    data_num, data_cat = splitNumCat(data = data_conv_age,\n",
    "                                     num_col = num_col,\n",
    "                                     cat_col = cat_col)\n",
    "    \n",
    "    #Handling num\n",
    "    data_num_imputed, _ = imputerNum(data = data_num,\n",
    "                                     imputer = imputer_num)\n",
    "    \n",
    "    #Handling cat\n",
    "    data_cat_imputed, _ = imputerCat(data = data_cat,\n",
    "                                     imputer = imputer_cat)\n",
    "    data_cat_encoded, _, _ = encoderCat(data = data_cat_imputed,\n",
    "                                        encoder_col = encoder_col,\n",
    "                                        encoder = encoder_cat)\n",
    "    \n",
    "    #Concat data\n",
    "    data_concat = pd.concat([data_num_imputed, data_cat_encoded],\n",
    "                            axis = 1)\n",
    "    \n",
    "    #Scale data\n",
    "    # data_clean, _ = standardizeData(data = data_concat,\n",
    "    #                                 scaler = scaler)\n",
    "    \n",
    "    return data_concat"
   ]
  },
  {
   "cell_type": "code",
   "execution_count": 30,
   "id": "a33fcc1a-0307-4750-9b26-e8028f0898e1",
   "metadata": {},
   "outputs": [
    {
     "data": {
      "text/html": [
       "<div>\n",
       "<style scoped>\n",
       "    .dataframe tbody tr th:only-of-type {\n",
       "        vertical-align: middle;\n",
       "    }\n",
       "\n",
       "    .dataframe tbody tr th {\n",
       "        vertical-align: top;\n",
       "    }\n",
       "\n",
       "    .dataframe thead th {\n",
       "        text-align: right;\n",
       "    }\n",
       "</style>\n",
       "<table border=\"1\" class=\"dataframe\">\n",
       "  <thead>\n",
       "    <tr style=\"text-align: right;\">\n",
       "      <th></th>\n",
       "      <th>duration</th>\n",
       "      <th>campaign</th>\n",
       "      <th>previous</th>\n",
       "      <th>emp.var.rate</th>\n",
       "      <th>cons.price.idx</th>\n",
       "      <th>cons.conf.idx</th>\n",
       "      <th>euribor3m</th>\n",
       "      <th>nr.employed</th>\n",
       "      <th>job_admin.</th>\n",
       "      <th>job_blue-collar</th>\n",
       "      <th>...</th>\n",
       "      <th>poutcome_success</th>\n",
       "      <th>pdays_group_1w</th>\n",
       "      <th>pdays_group_2w</th>\n",
       "      <th>pdays_group_&gt;2w</th>\n",
       "      <th>pdays_group_Not contacted</th>\n",
       "      <th>age_group_31-40</th>\n",
       "      <th>age_group_41-50</th>\n",
       "      <th>age_group_51-60</th>\n",
       "      <th>age_group_&lt;30</th>\n",
       "      <th>age_group_&gt;60</th>\n",
       "    </tr>\n",
       "  </thead>\n",
       "  <tbody>\n",
       "    <tr>\n",
       "      <th>36391</th>\n",
       "      <td>74.0</td>\n",
       "      <td>1.0</td>\n",
       "      <td>1.0</td>\n",
       "      <td>-2.9</td>\n",
       "      <td>92.963</td>\n",
       "      <td>-40.8</td>\n",
       "      <td>1.262</td>\n",
       "      <td>5076.2</td>\n",
       "      <td>1.0</td>\n",
       "      <td>0.0</td>\n",
       "      <td>...</td>\n",
       "      <td>1.0</td>\n",
       "      <td>1.0</td>\n",
       "      <td>0.0</td>\n",
       "      <td>0.0</td>\n",
       "      <td>0.0</td>\n",
       "      <td>1.0</td>\n",
       "      <td>0.0</td>\n",
       "      <td>0.0</td>\n",
       "      <td>0.0</td>\n",
       "      <td>0.0</td>\n",
       "    </tr>\n",
       "    <tr>\n",
       "      <th>12612</th>\n",
       "      <td>216.0</td>\n",
       "      <td>5.0</td>\n",
       "      <td>0.0</td>\n",
       "      <td>1.4</td>\n",
       "      <td>93.918</td>\n",
       "      <td>-42.7</td>\n",
       "      <td>4.960</td>\n",
       "      <td>5228.1</td>\n",
       "      <td>0.0</td>\n",
       "      <td>0.0</td>\n",
       "      <td>...</td>\n",
       "      <td>0.0</td>\n",
       "      <td>0.0</td>\n",
       "      <td>0.0</td>\n",
       "      <td>0.0</td>\n",
       "      <td>1.0</td>\n",
       "      <td>1.0</td>\n",
       "      <td>0.0</td>\n",
       "      <td>0.0</td>\n",
       "      <td>0.0</td>\n",
       "      <td>0.0</td>\n",
       "    </tr>\n",
       "    <tr>\n",
       "      <th>5791</th>\n",
       "      <td>372.0</td>\n",
       "      <td>14.0</td>\n",
       "      <td>0.0</td>\n",
       "      <td>1.1</td>\n",
       "      <td>93.994</td>\n",
       "      <td>-36.4</td>\n",
       "      <td>4.857</td>\n",
       "      <td>5191.0</td>\n",
       "      <td>0.0</td>\n",
       "      <td>0.0</td>\n",
       "      <td>...</td>\n",
       "      <td>0.0</td>\n",
       "      <td>0.0</td>\n",
       "      <td>0.0</td>\n",
       "      <td>0.0</td>\n",
       "      <td>1.0</td>\n",
       "      <td>1.0</td>\n",
       "      <td>0.0</td>\n",
       "      <td>0.0</td>\n",
       "      <td>0.0</td>\n",
       "      <td>0.0</td>\n",
       "    </tr>\n",
       "    <tr>\n",
       "      <th>36083</th>\n",
       "      <td>112.0</td>\n",
       "      <td>1.0</td>\n",
       "      <td>0.0</td>\n",
       "      <td>-1.8</td>\n",
       "      <td>92.893</td>\n",
       "      <td>-46.2</td>\n",
       "      <td>1.266</td>\n",
       "      <td>5099.1</td>\n",
       "      <td>0.0</td>\n",
       "      <td>0.0</td>\n",
       "      <td>...</td>\n",
       "      <td>0.0</td>\n",
       "      <td>0.0</td>\n",
       "      <td>0.0</td>\n",
       "      <td>0.0</td>\n",
       "      <td>1.0</td>\n",
       "      <td>0.0</td>\n",
       "      <td>0.0</td>\n",
       "      <td>0.0</td>\n",
       "      <td>1.0</td>\n",
       "      <td>0.0</td>\n",
       "    </tr>\n",
       "    <tr>\n",
       "      <th>21332</th>\n",
       "      <td>304.0</td>\n",
       "      <td>3.0</td>\n",
       "      <td>0.0</td>\n",
       "      <td>1.4</td>\n",
       "      <td>93.444</td>\n",
       "      <td>-36.1</td>\n",
       "      <td>4.963</td>\n",
       "      <td>5228.1</td>\n",
       "      <td>0.0</td>\n",
       "      <td>0.0</td>\n",
       "      <td>...</td>\n",
       "      <td>0.0</td>\n",
       "      <td>0.0</td>\n",
       "      <td>0.0</td>\n",
       "      <td>0.0</td>\n",
       "      <td>1.0</td>\n",
       "      <td>1.0</td>\n",
       "      <td>0.0</td>\n",
       "      <td>0.0</td>\n",
       "      <td>0.0</td>\n",
       "      <td>0.0</td>\n",
       "    </tr>\n",
       "  </tbody>\n",
       "</table>\n",
       "<p>5 rows × 69 columns</p>\n",
       "</div>"
      ],
      "text/plain": [
       "       duration  campaign  previous  emp.var.rate  cons.price.idx  \\\n",
       "36391      74.0       1.0       1.0          -2.9          92.963   \n",
       "12612     216.0       5.0       0.0           1.4          93.918   \n",
       "5791      372.0      14.0       0.0           1.1          93.994   \n",
       "36083     112.0       1.0       0.0          -1.8          92.893   \n",
       "21332     304.0       3.0       0.0           1.4          93.444   \n",
       "\n",
       "       cons.conf.idx  euribor3m  nr.employed  job_admin.  job_blue-collar  \\\n",
       "36391          -40.8      1.262       5076.2         1.0              0.0   \n",
       "12612          -42.7      4.960       5228.1         0.0              0.0   \n",
       "5791           -36.4      4.857       5191.0         0.0              0.0   \n",
       "36083          -46.2      1.266       5099.1         0.0              0.0   \n",
       "21332          -36.1      4.963       5228.1         0.0              0.0   \n",
       "\n",
       "       ...  poutcome_success  pdays_group_1w  pdays_group_2w  pdays_group_>2w  \\\n",
       "36391  ...               1.0             1.0             0.0              0.0   \n",
       "12612  ...               0.0             0.0             0.0              0.0   \n",
       "5791   ...               0.0             0.0             0.0              0.0   \n",
       "36083  ...               0.0             0.0             0.0              0.0   \n",
       "21332  ...               0.0             0.0             0.0              0.0   \n",
       "\n",
       "       pdays_group_Not contacted  age_group_31-40  age_group_41-50  \\\n",
       "36391                        0.0              1.0              0.0   \n",
       "12612                        1.0              1.0              0.0   \n",
       "5791                         1.0              1.0              0.0   \n",
       "36083                        1.0              0.0              0.0   \n",
       "21332                        1.0              1.0              0.0   \n",
       "\n",
       "       age_group_51-60  age_group_<30  age_group_>60  \n",
       "36391              0.0            0.0            0.0  \n",
       "12612              0.0            0.0            0.0  \n",
       "5791               0.0            0.0            0.0  \n",
       "36083              0.0            1.0            0.0  \n",
       "21332              0.0            0.0            0.0  \n",
       "\n",
       "[5 rows x 69 columns]"
      ]
     },
     "execution_count": 30,
     "metadata": {},
     "output_type": "execute_result"
    }
   ],
   "source": [
    "X_test_clean = transformTestData(data = X_test,\n",
    "                                 num_col = numerical_col, \n",
    "                                 cat_col = categorical_col,\n",
    "                                 encoder_col = encoder_col,\n",
    "                                 imputer_num = imputer_num,\n",
    "                                 imputer_cat = imputer_cat,\n",
    "                                 encoder_cat = encoder_OHE)\n",
    "\n",
    "X_test_clean.head()"
   ]
  },
  {
   "cell_type": "code",
   "execution_count": 31,
   "id": "9be36856-aa6c-4df5-922b-725a8a9e29a6",
   "metadata": {},
   "outputs": [],
   "source": [
    "X_train_clean = X_train_concat"
   ]
  },
  {
   "cell_type": "markdown",
   "id": "2d9ba1f8-d6de-4d75-9cf3-25211e3aacd9",
   "metadata": {},
   "source": [
    "# Pemodelan dengan Random Forest"
   ]
  },
  {
   "cell_type": "markdown",
   "id": "85460dfd-0ac6-45b0-8db7-4c279aab7399",
   "metadata": {},
   "source": [
    "Pada project ini digunakan random forest yang merupakan ensemble model yang bisa kita gunakan untuk kasus klasifikasi."
   ]
  },
  {
   "cell_type": "code",
   "execution_count": 32,
   "id": "f4af9feb-5b07-4c12-92f9-a95b92b55ee7",
   "metadata": {},
   "outputs": [],
   "source": [
    "from sklearn.ensemble import RandomForestClassifier"
   ]
  },
  {
   "cell_type": "code",
   "execution_count": 41,
   "id": "33def0a6-36dc-4371-9ca1-2b14a815e772",
   "metadata": {},
   "outputs": [],
   "source": [
    "#inisialisasi\n",
    "rfc = RandomForestClassifier(class_weight = dict(class_weight), random_state=123)"
   ]
  },
  {
   "cell_type": "markdown",
   "id": "a13b33c0-8609-4822-b1c6-75337b9343a6",
   "metadata": {},
   "source": [
    "### Eksperimentasi"
   ]
  },
  {
   "cell_type": "markdown",
   "id": "34de789e-703a-4baf-badb-82c8904a585a",
   "metadata": {},
   "source": [
    "Pada tahapan ini, dilakukan hyperparameter tuning untuk mendapatkan parameter terbaik. HP yang dipakai antara lain\n",
    "<br> - `n_estimators` : jumlah bootstrap\n",
    "<br> - `max_features` : jumlah fitur yang dipakai\n",
    "<br> - `max_depth` : jumlah kedalaman tree\n",
    "<br> - `criterion` : criterion yang digunakan untuk membuat tree"
   ]
  },
  {
   "cell_type": "code",
   "execution_count": 34,
   "id": "750d9ff8-5185-484b-b4fe-bdc45af4ef30",
   "metadata": {},
   "outputs": [],
   "source": [
    "params = {\"n_estimators\": [10,50,100,200,300,400,500],\n",
    "          \"max_features\": [\"sqrt\", \"log2\"],\n",
    "          \"max_depth\" : [10,20,30],\n",
    "          \"criterion\" : ['entropy','gini'],\n",
    "        }"
   ]
  },
  {
   "cell_type": "markdown",
   "id": "05cb3c98-c355-4265-afa9-48e4361a73d3",
   "metadata": {},
   "source": [
    "Kita lakukan eksperimentasi dengan menggunakan cross validation dengan jumlah fold sebanyak 5"
   ]
  },
  {
   "cell_type": "code",
   "execution_count": 35,
   "id": "40f0661a-6f6e-4e56-8698-ba6fb8e459da",
   "metadata": {},
   "outputs": [],
   "source": [
    "from sklearn.model_selection import GridSearchCV"
   ]
  },
  {
   "cell_type": "code",
   "execution_count": 42,
   "id": "e3322348-404e-42a3-93ef-90d0e44747a4",
   "metadata": {},
   "outputs": [],
   "source": [
    "# membuat gridsearch cv\n",
    "rfc_cv = GridSearchCV(estimator = rfc,\n",
    "                          param_grid = params,\n",
    "                          cv = 5)"
   ]
  },
  {
   "cell_type": "code",
   "execution_count": 44,
   "id": "21638081-8b0b-4287-bf13-1d737903b780",
   "metadata": {},
   "outputs": [
    {
     "data": {
      "text/plain": [
       "GridSearchCV(cv=5,\n",
       "             estimator=RandomForestClassifier(class_weight={0: 0.563477478886456,\n",
       "                                                            1: 4.438404681244226},\n",
       "                                              random_state=123),\n",
       "             param_grid={'criterion': ['entropy', 'gini'],\n",
       "                         'max_depth': [10, 20, 30],\n",
       "                         'max_features': ['sqrt', 'log2'],\n",
       "                         'n_estimators': [10, 50, 100, 200, 300, 400, 500]})"
      ]
     },
     "execution_count": 44,
     "metadata": {},
     "output_type": "execute_result"
    }
   ],
   "source": [
    "# proses fitting\n",
    "rfc_cv.fit(X = X_train_clean,\n",
    "              y = y_train)"
   ]
  },
  {
   "cell_type": "markdown",
   "id": "ad784cd4-a2e2-4a70-95c1-52d2d540cf60",
   "metadata": {},
   "source": [
    "Parameter terbaik yang digunakan"
   ]
  },
  {
   "cell_type": "code",
   "execution_count": 45,
   "id": "f1d260fa-c869-48ec-afbd-1650598f2aea",
   "metadata": {},
   "outputs": [
    {
     "data": {
      "text/plain": [
       "{'criterion': 'entropy',\n",
       " 'max_depth': 20,\n",
       " 'max_features': 'sqrt',\n",
       " 'n_estimators': 400}"
      ]
     },
     "execution_count": 45,
     "metadata": {},
     "output_type": "execute_result"
    }
   ],
   "source": [
    "rfc_cv.best_params_"
   ]
  },
  {
   "cell_type": "markdown",
   "id": "73d86a9a-caf5-411e-9ac4-255749c0650d",
   "metadata": {},
   "source": [
    "### Membuat Best Model"
   ]
  },
  {
   "cell_type": "markdown",
   "id": "4caec3cf-d957-4679-b3d5-8635be4fdae3",
   "metadata": {
    "tags": []
   },
   "source": [
    "Membuat model kembali dengan hyperparameter yang sudah ditunning"
   ]
  },
  {
   "cell_type": "code",
   "execution_count": 46,
   "id": "9c9c0d63-0a2b-4f12-9397-abb70437cb65",
   "metadata": {},
   "outputs": [
    {
     "data": {
      "text/plain": [
       "RandomForestClassifier(class_weight={0: 0.563477478886456,\n",
       "                                     1: 4.438404681244226},\n",
       "                       criterion='entropy', max_depth=20, max_features='sqrt',\n",
       "                       n_estimators=400, random_state=123)"
      ]
     },
     "execution_count": 46,
     "metadata": {},
     "output_type": "execute_result"
    }
   ],
   "source": [
    "# Buat best model\n",
    "rfc_new = RandomForestClassifier(max_features = rfc_cv.best_params_[\"max_features\"],\n",
    "                                 n_estimators = rfc_cv.best_params_[\"n_estimators\"],\n",
    "                                 criterion = rfc_cv.best_params_[\"criterion\"],\n",
    "                                 max_depth = rfc_cv.best_params_[\"max_depth\"],\n",
    "                                 class_weight = dict(class_weight),\n",
    "                                 random_state = 123)\n",
    "\n",
    "# Fit model\n",
    "rfc_new.fit(X_train_clean, y_train)"
   ]
  },
  {
   "cell_type": "markdown",
   "id": "94401ae5-405f-437d-b878-3a78997caeea",
   "metadata": {},
   "source": [
    "### Prediksi Pada Data Train"
   ]
  },
  {
   "cell_type": "code",
   "execution_count": 47,
   "id": "a56fe053-cb03-4c45-9efe-7309ef9dbd83",
   "metadata": {},
   "outputs": [],
   "source": [
    "y_pred_train_proba = rfc_new.predict_proba(X_train_clean)"
   ]
  },
  {
   "cell_type": "code",
   "execution_count": 48,
   "id": "99f2c74b-1db3-4497-9cd9-93d3e39d0f0e",
   "metadata": {},
   "outputs": [
    {
     "data": {
      "text/plain": [
       "array([0, 0, 0, ..., 0, 0, 0], dtype=int64)"
      ]
     },
     "execution_count": 48,
     "metadata": {},
     "output_type": "execute_result"
    }
   ],
   "source": [
    "y_pred_train = rfc_new.predict(X_train_clean)\n",
    "y_pred_train"
   ]
  },
  {
   "cell_type": "code",
   "execution_count": 49,
   "id": "c998c71e-b721-4ac2-98e4-b782e26211e3",
   "metadata": {},
   "outputs": [
    {
     "name": "stdout",
     "output_type": "stream",
     "text": [
      "              precision    recall  f1-score   support\n",
      "\n",
      "          no       1.00      0.99      1.00     25576\n",
      "         yes       0.95      1.00      0.97      3247\n",
      "\n",
      "    accuracy                           0.99     28823\n",
      "   macro avg       0.98      1.00      0.99     28823\n",
      "weighted avg       0.99      0.99      0.99     28823\n",
      "\n"
     ]
    }
   ],
   "source": [
    "from sklearn.metrics import classification_report\n",
    "\n",
    "print(classification_report(y_true = y_train,\n",
    "                            y_pred = y_pred_train,\n",
    "                            target_names = [\"no\", \"yes\"]))"
   ]
  },
  {
   "cell_type": "markdown",
   "id": "51dd38de-f38c-48d6-8c83-de359ed62701",
   "metadata": {},
   "source": [
    "### Prediksi pada Data Test"
   ]
  },
  {
   "cell_type": "code",
   "execution_count": 50,
   "id": "a266890e-916e-4ff9-b7f8-82ca69d6d491",
   "metadata": {},
   "outputs": [
    {
     "data": {
      "text/plain": [
       "array([0, 0, 0, ..., 1, 0, 0], dtype=int64)"
      ]
     },
     "execution_count": 50,
     "metadata": {},
     "output_type": "execute_result"
    }
   ],
   "source": [
    "y_pred_test = rfc_new.predict(X_test_clean)\n",
    "y_pred_test"
   ]
  },
  {
   "cell_type": "markdown",
   "id": "58244300-f304-49e1-871a-e6447a630b47",
   "metadata": {},
   "source": [
    "### Evaluasi"
   ]
  },
  {
   "cell_type": "code",
   "execution_count": 51,
   "id": "859c8cf0-cdfa-4ae8-98a3-de605ce9180b",
   "metadata": {},
   "outputs": [
    {
     "name": "stdout",
     "output_type": "stream",
     "text": [
      "              precision    recall  f1-score   support\n",
      "\n",
      "           1       0.60      0.57      0.58      1392\n",
      "           0       0.95      0.95      0.95     10961\n",
      "\n",
      "    accuracy                           0.91     12353\n",
      "   macro avg       0.77      0.76      0.77     12353\n",
      "weighted avg       0.91      0.91      0.91     12353\n",
      "\n"
     ]
    }
   ],
   "source": [
    "from sklearn.metrics import classification_report\n",
    "print(classification_report(y_true = y_test,\n",
    "                            y_pred = y_pred_test,\n",
    "                           labels = [1,0]))"
   ]
  },
  {
   "cell_type": "code",
   "execution_count": 52,
   "id": "357b826c-f56b-4357-b78c-5b6b21aa40be",
   "metadata": {},
   "outputs": [
    {
     "data": {
      "text/plain": [
       "array([[  788,   604],\n",
       "       [  523, 10438]], dtype=int64)"
      ]
     },
     "execution_count": 52,
     "metadata": {},
     "output_type": "execute_result"
    }
   ],
   "source": [
    "from sklearn.metrics import confusion_matrix\n",
    " \n",
    "cm = confusion_matrix(y_true = y_test,\n",
    "                      y_pred = y_pred_test, \n",
    "                      labels=[1,0])\n",
    "cm"
   ]
  },
  {
   "cell_type": "code",
   "execution_count": 53,
   "id": "6ba8e5b3-64dd-4fa2-bb30-25d78dee151f",
   "metadata": {},
   "outputs": [],
   "source": [
    "from sklearn.metrics import roc_auc_score\n",
    "from sklearn.metrics import roc_curve\n",
    "from sklearn.metrics import auc"
   ]
  },
  {
   "cell_type": "code",
   "execution_count": 54,
   "id": "f9e6715e-6750-4e2a-a50c-7fb359feabee",
   "metadata": {},
   "outputs": [],
   "source": [
    "y_pred_test_proba = rfc_new.predict_proba(X_test_clean)"
   ]
  },
  {
   "cell_type": "code",
   "execution_count": 55,
   "id": "cf7d6cb1-9796-4c3b-8a70-eb45655f5bbb",
   "metadata": {},
   "outputs": [
    {
     "data": {
      "image/png": "[encoded data removed]",
      "text/plain": [
       "<Figure size 432x288 with 1 Axes>"
      ]
     },
     "metadata": {
      "needs_background": "light"
     },
     "output_type": "display_data"
    }
   ],
   "source": [
    "# ROC Curve\n",
    "fpr_lr, tpr_lr, threshold_lr = roc_curve(y_test,\n",
    "                                         y_pred_test_proba[:,1])\n",
    "roc_auc_lr = auc(fpr_lr, tpr_lr)\n",
    "\n",
    "plt.title('Receiver Operating Characteristic')\n",
    "plt.plot(fpr_lr, tpr_lr, 'b', label = 'AUC = %0.2f' % roc_auc_lr)\n",
    "plt.legend(loc = 'lower right')\n",
    "plt.plot([0, 1], [0, 1],'r--')\n",
    "plt.xlim([0, 1])\n",
    "plt.ylim([0, 1])\n",
    "plt.ylabel('True Positive Rate')\n",
    "plt.xlabel('False Positive Rate')\n",
    "plt.show()"
   ]
  },
  {
   "cell_type": "code",
   "execution_count": 56,
   "id": "9d33da02-87e9-4696-86ee-52aba850e30f",
   "metadata": {},
   "outputs": [
    {
     "data": {
      "image/png": "[encoded data removed]",
      "text/plain": [
       "<Figure size 432x288 with 2 Axes>"
      ]
     },
     "metadata": {
      "needs_background": "light"
     },
     "output_type": "display_data"
    }
   ],
   "source": [
    "from sklearn.metrics import ConfusionMatrixDisplay\n",
    "\n",
    "cm = confusion_matrix(y_test, y_pred_test, labels=[1,0])\n",
    "disp = ConfusionMatrixDisplay(confusion_matrix=cm,\n",
    "                              display_labels=[1,0])\n",
    "disp.plot()\n",
    "plt.show()"
   ]
  }
 ],
 "metadata": {
  "kernelspec": {
   "display_name": "Python 3 (ipykernel)",
   "language": "python",
   "name": "python3"
  },
  "language_info": {
   "codemirror_mode": {
    "name": "ipython",
    "version": 3
   },
   "file_extension": ".py",
   "mimetype": "text/x-python",
   "name": "python",
   "nbconvert_exporter": "python",
   "pygments_lexer": "ipython3",
   "version": "3.9.12"
  }
 },
 "nbformat": 4,
 "nbformat_minor": 5
}
